{
 "cells": [
  {
   "cell_type": "markdown",
   "metadata": {},
   "source": [
    "# Physics 760: Computational Physics\n",
    "## WS 2022/23\n",
    "### Week 4\n",
    "#### Pugazharasu Anancia Devaneyan, Rishi Kumar Senthil Kumar"
   ]
  },
  {
   "cell_type": "code",
   "execution_count": 25,
   "metadata": {},
   "outputs": [
    {
     "name": "stdout",
     "output_type": "stream",
     "text": [
      "Populating the interactive namespace from numpy and matplotlib\n"
     ]
    },
    {
     "name": "stderr",
     "output_type": "stream",
     "text": [
      "C:\\Users\\pugaz\\AppData\\Local\\Packages\\PythonSoftwareFoundation.Python.3.9_qbz5n2kfra8p0\\LocalCache\\local-packages\\Python39\\site-packages\\IPython\\core\\magics\\pylab.py:159: UserWarning: pylab import has clobbered these variables: ['random', 'f']\n",
      "`%matplotlib` prevents importing * from pylab and numpy\n",
      "  warn(\"pylab import has clobbered these variables: %s\"  % clobbered +\n"
     ]
    }
   ],
   "source": [
    "#setup the notebook\n",
    "%pylab inline\n",
    "import numpy as np\n",
    "import matplotlib.pyplot as plt\n",
    "import random\n",
    "import math as mth\n",
    "import scipy as sp\n",
    "from sympy import *\n",
    "from scipy import special"
   ]
  },
  {
   "cell_type": "markdown",
   "metadata": {},
   "source": [
    "# Equations of Motion"
   ]
  },
  {
   "cell_type": "code",
   "execution_count": 53,
   "metadata": {},
   "outputs": [],
   "source": [
    "def min_func(x,phi0,phi1,phi2):\n",
    "    func = 0\n",
    "    func = phi0 + (x*phi1) + ((x**2)*phi2)\n",
    "    return func"
   ]
  },
  {
   "cell_type": "code",
   "execution_count": 39,
   "metadata": {},
   "outputs": [],
   "source": [
    "def chi(phi0,phi1,phi2):\n",
    "    f = [960,1025,1055,1085,1130]\n",
    "    err_f = [25,20,15,10,8]\n",
    "    x = [0.176,0.234,0.260,0.284,0.324]\n",
    "    mass = 0\n",
    "    for i in range(5):\n",
    "        mass += ((f[i]-min_func(x[i],phi0,phi1,phi2))**2)/(err_f[i]**2)\n",
    "    mass = mass/2\n",
    "    return mass"
   ]
  },
  {
   "cell_type": "code",
   "execution_count": 37,
   "metadata": {},
   "outputs": [],
   "source": [
    "def hammy(p0,p1,p2,phi0,phi1,phi2,beta):\n",
    "    ham = 0\n",
    "    ham = ((p0**2)/2) + ((p1**2)/2) + ((p2**2)/2) + (beta*chi(phi0,phi1,phi2))\n",
    "    return ham"
   ]
  },
  {
   "cell_type": "markdown",
   "metadata": {},
   "source": [
    "# Leapfrog Algorithm"
   ]
  },
  {
   "cell_type": "code",
   "execution_count": 63,
   "metadata": {},
   "outputs": [],
   "source": [
    "def leap(p,phi,N_md):\n",
    "    #Setting up the initial values\n",
    "    p_out = np.array([1,2,3])\n",
    "    phi_out = np.array([1,2,3])\n",
    "    epsilon = 1/N_md\n",
    "    f = [960,1025,1055,1085,1130]\n",
    "    err_f = [25,20,15,10,8]\n",
    "    x = [0.176,0.234,0.260,0.284,0.324]\n",
    "    \n",
    "    beta = 1000\n",
    "    \n",
    "    #Performing the first half step\n",
    "    phi_out = phi_out + p*0.5*epsilon\n",
    "    \n",
    "    #Iterating through the Ṇ\n",
    "    for i in range(N_md-1):\n",
    "        for j in range(5):\n",
    "            p_out[0] += -epsilon*beta*0.5*((2*min_func(x[j],phi_out[0],phi_out[1],phi_out[2]))-f[j])/err_f[j]\n",
    "            p_out[1] += -epsilon*beta*0.5*(((1-(2*x[j]))*f[j])+(2*x[j]*min_func(x[j],phi_out[0],phi_out[1],phi_out[2])))/err_f[j]\n",
    "            p_out[2] += -epsilon*beta*0.5*(((1-(2*(x[j]**2)))*f[j])+(2*(x[j]**2)*min_func(x[j],phi_out[0],phi_out[1],phi_out[2])))/err_f[j]\n",
    "        phi_out += epsilon*p_out\n",
    "        \n",
    "    #Performing the final leap\n",
    "    for k in range(5):\n",
    "            p_out[0] += -epsilon*beta*0.5*((2*min_func(x[k],phi_out[0],phi_out[1],phi_out[2]))-f[k])/err_f[k]\n",
    "            p_out[1] += -epsilon*beta*0.5*(((1-(2*x[k]))*f[k])+(2*x[k]*min_func(x[k],phi_out[0],phi_out[1],phi_out[2])))/err_f[k]\n",
    "            p_out[2] += -epsilon*beta*0.5*(((1-(2*(x[k]**2)))*f[k])+(2*(x[k]**2)*min_func(x[k],phi_out[0],phi_out[1],phi_out[2])))/err_f[k] \n",
    "    phi_out += (epsilon/2)*p_out\n",
    "    return phi,p"
   ]
  },
  {
   "cell_type": "markdown",
   "metadata": {},
   "source": [
    "Now we plot for the convergence versus the number of steps taken"
   ]
  },
  {
   "cell_type": "code",
   "execution_count": 71,
   "metadata": {},
   "outputs": [],
   "source": [
    "p_leap = np.array([np.random.normal(0,1),np.random.normal(0,1),np.random.normal(0,1)])\n",
    "phi_leap = [80,800,600]\n",
    "initial_hammy = hammy(p_leap[0],p_leap[1],p_leap[2],phi_leap[0],phi_leap[1],phi_leap[2],1000)"
   ]
  },
  {
   "cell_type": "code",
   "execution_count": 72,
   "metadata": {},
   "outputs": [
    {
     "data": {
      "image/png": "[encoded data removed]",
      "text/plain": [
       "<Figure size 432x288 with 1 Axes>"
      ]
     },
     "metadata": {
      "needs_background": "light"
     },
     "output_type": "display_data"
    }
   ],
   "source": [
    "initial_hammy = hammy(p_leap[0],p_leap[1],p_leap[2],phi_leap[0],phi_leap[1],phi_leap[2],1000)\n",
    "N_mds = np.arange(10,1000)\n",
    "y_axis = []\n",
    "\n",
    "for n in N_mds:\n",
    "    new_q, new_p = leap(p_leap,phi_leap,n)\n",
    "    final_hammy = hammy(new_q[0],new_q[1],new_q[2],new_p[0],new_p[1],new_p[2],1000) \n",
    "    y = (final_hammy-initial_hammy)/initial_hammy\n",
    "    y_axis.append(y)\n",
    "\n",
    "plt.plot(N_mds,y_axis,marker='.',markersize=9,linestyle='')\n",
    "plt.yscale('log')\n",
    "plt.xlabel('$N_{md}$')\n",
    "plt.ylabel('$\\\\frac{\\\\mathcal{H}\\\\left[p_f, \\\\phi_f\\\\right]-\\\\mathcal{H}\\\\left[p_0, \\\\phi_0\\\\right]}{\\\\mathcal{H}\\\\left[p_0, \\\\phi_0\\\\right]}$')\n",
    "plt.grid()\n",
    "plt.savefig('Plots/h_v_n.png',dpi=300, bbox_inches = \"tight\")"
   ]
  },
  {
   "cell_type": "markdown",
   "metadata": {},
   "source": [
    "# Hybrid Monte Carlo algorithm"
   ]
  },
  {
   "cell_type": "code",
   "execution_count": 66,
   "metadata": {},
   "outputs": [],
   "source": [
    "def accept_reject(sweeps,phi,beta,N_md):\n",
    "    phi_list = [[0,0,0]]\n",
    "    phi_list.append(phi) \n",
    "    \n",
    "    \n",
    "    new_hammy = 0\n",
    "    \n",
    "    for i in range(sweeps):\n",
    "        p_list = np.array([np.random.normal(0,1),np.random.normal(0,1),np.random.normal(0,1)])    \n",
    "        #get last 3 elements of phi\n",
    "        \n",
    "        init_ham = hammy(p_list[0],p_list[1],p_list[2],phi_list[-1][0],phi_list[-1][1],phi_list[-1][2],beta)\n",
    "        \n",
    "        new_q,new_p = leap(p_list,phi_list[-1],N_md)\n",
    "        \n",
    "        new_hammy = hammy(new_p[0],new_p[1],new_p[2],new_q[0],new_q[1],new_q[2],beta)\n",
    "        \n",
    "        # fill in the metropolis critereon\n",
    "        if np.random.uniform(0,1)<=np.exp(-(init_ham - new_hammy)):\n",
    "            phi_list.append(new_q)\n",
    "            \n",
    "        else:\n",
    "            phi_list.append(phi_list[-1])\n",
    "        \n",
    "    return phi_list"
   ]
  },
  {
   "cell_type": "code",
   "execution_count": 77,
   "metadata": {},
   "outputs": [
    {
     "ename": "KeyboardInterrupt",
     "evalue": "",
     "output_type": "error",
     "traceback": [
      "\u001b[1;31m---------------------------------------------------------------------------\u001b[0m",
      "\u001b[1;31mKeyboardInterrupt\u001b[0m                         Traceback (most recent call last)",
      "\u001b[1;32m~\\AppData\\Local\\Temp/ipykernel_18912/1395634936.py\u001b[0m in \u001b[0;36m<module>\u001b[1;34m\u001b[0m\n\u001b[0;32m      6\u001b[0m \u001b[0mvar_3\u001b[0m \u001b[1;33m=\u001b[0m \u001b[1;33m[\u001b[0m\u001b[1;33m]\u001b[0m\u001b[1;33m\u001b[0m\u001b[1;33m\u001b[0m\u001b[0m\n\u001b[0;32m      7\u001b[0m \u001b[1;32mfor\u001b[0m \u001b[0ms\u001b[0m \u001b[1;32min\u001b[0m \u001b[0msweep_list\u001b[0m\u001b[1;33m:\u001b[0m\u001b[1;33m\u001b[0m\u001b[1;33m\u001b[0m\u001b[0m\n\u001b[1;32m----> 8\u001b[1;33m     \u001b[0mfield_list\u001b[0m \u001b[1;33m=\u001b[0m \u001b[0maccept_reject\u001b[0m\u001b[1;33m(\u001b[0m\u001b[0ms\u001b[0m\u001b[1;33m,\u001b[0m\u001b[0mphi_initial\u001b[0m\u001b[1;33m,\u001b[0m\u001b[1;36m1000\u001b[0m\u001b[1;33m,\u001b[0m\u001b[1;36m100\u001b[0m\u001b[1;33m)\u001b[0m\u001b[1;33m\u001b[0m\u001b[1;33m\u001b[0m\u001b[0m\n\u001b[0m\u001b[0;32m      9\u001b[0m     \u001b[0mvar_1\u001b[0m\u001b[1;33m.\u001b[0m\u001b[0mappend\u001b[0m\u001b[1;33m(\u001b[0m\u001b[0mfield_list\u001b[0m\u001b[1;33m[\u001b[0m\u001b[1;36m0\u001b[0m\u001b[1;33m]\u001b[0m\u001b[1;33m)\u001b[0m\u001b[1;33m\u001b[0m\u001b[1;33m\u001b[0m\u001b[0m\n\u001b[0;32m     10\u001b[0m     \u001b[0mvar_2\u001b[0m\u001b[1;33m.\u001b[0m\u001b[0mappend\u001b[0m\u001b[1;33m(\u001b[0m\u001b[0mfield_list\u001b[0m\u001b[1;33m[\u001b[0m\u001b[1;36m1\u001b[0m\u001b[1;33m]\u001b[0m\u001b[1;33m)\u001b[0m\u001b[1;33m\u001b[0m\u001b[1;33m\u001b[0m\u001b[0m\n",
      "\u001b[1;32m~\\AppData\\Local\\Temp/ipykernel_18912/2139329171.py\u001b[0m in \u001b[0;36maccept_reject\u001b[1;34m(sweeps, phi, beta, N_md)\u001b[0m\n\u001b[0;32m     12\u001b[0m         \u001b[0minit_ham\u001b[0m \u001b[1;33m=\u001b[0m \u001b[0mhammy\u001b[0m\u001b[1;33m(\u001b[0m\u001b[0mp_list\u001b[0m\u001b[1;33m[\u001b[0m\u001b[1;36m0\u001b[0m\u001b[1;33m]\u001b[0m\u001b[1;33m,\u001b[0m\u001b[0mp_list\u001b[0m\u001b[1;33m[\u001b[0m\u001b[1;36m1\u001b[0m\u001b[1;33m]\u001b[0m\u001b[1;33m,\u001b[0m\u001b[0mp_list\u001b[0m\u001b[1;33m[\u001b[0m\u001b[1;36m2\u001b[0m\u001b[1;33m]\u001b[0m\u001b[1;33m,\u001b[0m\u001b[0mphi_list\u001b[0m\u001b[1;33m[\u001b[0m\u001b[1;33m-\u001b[0m\u001b[1;36m1\u001b[0m\u001b[1;33m]\u001b[0m\u001b[1;33m[\u001b[0m\u001b[1;36m0\u001b[0m\u001b[1;33m]\u001b[0m\u001b[1;33m,\u001b[0m\u001b[0mphi_list\u001b[0m\u001b[1;33m[\u001b[0m\u001b[1;33m-\u001b[0m\u001b[1;36m1\u001b[0m\u001b[1;33m]\u001b[0m\u001b[1;33m[\u001b[0m\u001b[1;36m1\u001b[0m\u001b[1;33m]\u001b[0m\u001b[1;33m,\u001b[0m\u001b[0mphi_list\u001b[0m\u001b[1;33m[\u001b[0m\u001b[1;33m-\u001b[0m\u001b[1;36m1\u001b[0m\u001b[1;33m]\u001b[0m\u001b[1;33m[\u001b[0m\u001b[1;36m2\u001b[0m\u001b[1;33m]\u001b[0m\u001b[1;33m,\u001b[0m\u001b[0mbeta\u001b[0m\u001b[1;33m)\u001b[0m\u001b[1;33m\u001b[0m\u001b[1;33m\u001b[0m\u001b[0m\n\u001b[0;32m     13\u001b[0m \u001b[1;33m\u001b[0m\u001b[0m\n\u001b[1;32m---> 14\u001b[1;33m         \u001b[0mnew_q\u001b[0m\u001b[1;33m,\u001b[0m\u001b[0mnew_p\u001b[0m \u001b[1;33m=\u001b[0m \u001b[0mleap\u001b[0m\u001b[1;33m(\u001b[0m\u001b[0mp_list\u001b[0m\u001b[1;33m,\u001b[0m\u001b[0mphi_list\u001b[0m\u001b[1;33m[\u001b[0m\u001b[1;33m-\u001b[0m\u001b[1;36m1\u001b[0m\u001b[1;33m]\u001b[0m\u001b[1;33m,\u001b[0m\u001b[0mN_md\u001b[0m\u001b[1;33m)\u001b[0m\u001b[1;33m\u001b[0m\u001b[1;33m\u001b[0m\u001b[0m\n\u001b[0m\u001b[0;32m     15\u001b[0m \u001b[1;33m\u001b[0m\u001b[0m\n\u001b[0;32m     16\u001b[0m         \u001b[0mnew_hammy\u001b[0m \u001b[1;33m=\u001b[0m \u001b[0mhammy\u001b[0m\u001b[1;33m(\u001b[0m\u001b[0mnew_p\u001b[0m\u001b[1;33m[\u001b[0m\u001b[1;36m0\u001b[0m\u001b[1;33m]\u001b[0m\u001b[1;33m,\u001b[0m\u001b[0mnew_p\u001b[0m\u001b[1;33m[\u001b[0m\u001b[1;36m1\u001b[0m\u001b[1;33m]\u001b[0m\u001b[1;33m,\u001b[0m\u001b[0mnew_p\u001b[0m\u001b[1;33m[\u001b[0m\u001b[1;36m2\u001b[0m\u001b[1;33m]\u001b[0m\u001b[1;33m,\u001b[0m\u001b[0mnew_q\u001b[0m\u001b[1;33m[\u001b[0m\u001b[1;36m0\u001b[0m\u001b[1;33m]\u001b[0m\u001b[1;33m,\u001b[0m\u001b[0mnew_q\u001b[0m\u001b[1;33m[\u001b[0m\u001b[1;36m1\u001b[0m\u001b[1;33m]\u001b[0m\u001b[1;33m,\u001b[0m\u001b[0mnew_q\u001b[0m\u001b[1;33m[\u001b[0m\u001b[1;36m2\u001b[0m\u001b[1;33m]\u001b[0m\u001b[1;33m,\u001b[0m\u001b[0mbeta\u001b[0m\u001b[1;33m)\u001b[0m\u001b[1;33m\u001b[0m\u001b[1;33m\u001b[0m\u001b[0m\n",
      "\u001b[1;32m~\\AppData\\Local\\Temp/ipykernel_18912/4109270737.py\u001b[0m in \u001b[0;36mleap\u001b[1;34m(p, phi, N_md)\u001b[0m\n\u001b[0;32m     19\u001b[0m             \u001b[0mp_out\u001b[0m\u001b[1;33m[\u001b[0m\u001b[1;36m1\u001b[0m\u001b[1;33m]\u001b[0m \u001b[1;33m+=\u001b[0m \u001b[1;33m-\u001b[0m\u001b[0mepsilon\u001b[0m\u001b[1;33m*\u001b[0m\u001b[0mbeta\u001b[0m\u001b[1;33m*\u001b[0m\u001b[1;36m0.5\u001b[0m\u001b[1;33m*\u001b[0m\u001b[1;33m(\u001b[0m\u001b[1;33m(\u001b[0m\u001b[1;33m(\u001b[0m\u001b[1;36m1\u001b[0m\u001b[1;33m-\u001b[0m\u001b[1;33m(\u001b[0m\u001b[1;36m2\u001b[0m\u001b[1;33m*\u001b[0m\u001b[0mx\u001b[0m\u001b[1;33m[\u001b[0m\u001b[0mj\u001b[0m\u001b[1;33m]\u001b[0m\u001b[1;33m)\u001b[0m\u001b[1;33m)\u001b[0m\u001b[1;33m*\u001b[0m\u001b[0mf\u001b[0m\u001b[1;33m[\u001b[0m\u001b[0mj\u001b[0m\u001b[1;33m]\u001b[0m\u001b[1;33m)\u001b[0m\u001b[1;33m+\u001b[0m\u001b[1;33m(\u001b[0m\u001b[1;36m2\u001b[0m\u001b[1;33m*\u001b[0m\u001b[0mx\u001b[0m\u001b[1;33m[\u001b[0m\u001b[0mj\u001b[0m\u001b[1;33m]\u001b[0m\u001b[1;33m*\u001b[0m\u001b[0mmin_func\u001b[0m\u001b[1;33m(\u001b[0m\u001b[0mx\u001b[0m\u001b[1;33m[\u001b[0m\u001b[0mj\u001b[0m\u001b[1;33m]\u001b[0m\u001b[1;33m,\u001b[0m\u001b[0mphi_out\u001b[0m\u001b[1;33m[\u001b[0m\u001b[1;36m0\u001b[0m\u001b[1;33m]\u001b[0m\u001b[1;33m,\u001b[0m\u001b[0mphi_out\u001b[0m\u001b[1;33m[\u001b[0m\u001b[1;36m1\u001b[0m\u001b[1;33m]\u001b[0m\u001b[1;33m,\u001b[0m\u001b[0mphi_out\u001b[0m\u001b[1;33m[\u001b[0m\u001b[1;36m2\u001b[0m\u001b[1;33m]\u001b[0m\u001b[1;33m)\u001b[0m\u001b[1;33m)\u001b[0m\u001b[1;33m)\u001b[0m\u001b[1;33m/\u001b[0m\u001b[0merr_f\u001b[0m\u001b[1;33m[\u001b[0m\u001b[0mj\u001b[0m\u001b[1;33m]\u001b[0m\u001b[1;33m\u001b[0m\u001b[1;33m\u001b[0m\u001b[0m\n\u001b[0;32m     20\u001b[0m             \u001b[0mp_out\u001b[0m\u001b[1;33m[\u001b[0m\u001b[1;36m2\u001b[0m\u001b[1;33m]\u001b[0m \u001b[1;33m+=\u001b[0m \u001b[1;33m-\u001b[0m\u001b[0mepsilon\u001b[0m\u001b[1;33m*\u001b[0m\u001b[0mbeta\u001b[0m\u001b[1;33m*\u001b[0m\u001b[1;36m0.5\u001b[0m\u001b[1;33m*\u001b[0m\u001b[1;33m(\u001b[0m\u001b[1;33m(\u001b[0m\u001b[1;33m(\u001b[0m\u001b[1;36m1\u001b[0m\u001b[1;33m-\u001b[0m\u001b[1;33m(\u001b[0m\u001b[1;36m2\u001b[0m\u001b[1;33m*\u001b[0m\u001b[1;33m(\u001b[0m\u001b[0mx\u001b[0m\u001b[1;33m[\u001b[0m\u001b[0mj\u001b[0m\u001b[1;33m]\u001b[0m\u001b[1;33m**\u001b[0m\u001b[1;36m2\u001b[0m\u001b[1;33m)\u001b[0m\u001b[1;33m)\u001b[0m\u001b[1;33m)\u001b[0m\u001b[1;33m*\u001b[0m\u001b[0mf\u001b[0m\u001b[1;33m[\u001b[0m\u001b[0mj\u001b[0m\u001b[1;33m]\u001b[0m\u001b[1;33m)\u001b[0m\u001b[1;33m+\u001b[0m\u001b[1;33m(\u001b[0m\u001b[1;36m2\u001b[0m\u001b[1;33m*\u001b[0m\u001b[1;33m(\u001b[0m\u001b[0mx\u001b[0m\u001b[1;33m[\u001b[0m\u001b[0mj\u001b[0m\u001b[1;33m]\u001b[0m\u001b[1;33m**\u001b[0m\u001b[1;36m2\u001b[0m\u001b[1;33m)\u001b[0m\u001b[1;33m*\u001b[0m\u001b[0mmin_func\u001b[0m\u001b[1;33m(\u001b[0m\u001b[0mx\u001b[0m\u001b[1;33m[\u001b[0m\u001b[0mj\u001b[0m\u001b[1;33m]\u001b[0m\u001b[1;33m,\u001b[0m\u001b[0mphi_out\u001b[0m\u001b[1;33m[\u001b[0m\u001b[1;36m0\u001b[0m\u001b[1;33m]\u001b[0m\u001b[1;33m,\u001b[0m\u001b[0mphi_out\u001b[0m\u001b[1;33m[\u001b[0m\u001b[1;36m1\u001b[0m\u001b[1;33m]\u001b[0m\u001b[1;33m,\u001b[0m\u001b[0mphi_out\u001b[0m\u001b[1;33m[\u001b[0m\u001b[1;36m2\u001b[0m\u001b[1;33m]\u001b[0m\u001b[1;33m)\u001b[0m\u001b[1;33m)\u001b[0m\u001b[1;33m)\u001b[0m\u001b[1;33m/\u001b[0m\u001b[0merr_f\u001b[0m\u001b[1;33m[\u001b[0m\u001b[0mj\u001b[0m\u001b[1;33m]\u001b[0m\u001b[1;33m\u001b[0m\u001b[1;33m\u001b[0m\u001b[0m\n\u001b[1;32m---> 21\u001b[1;33m         \u001b[0mphi_out\u001b[0m \u001b[1;33m+=\u001b[0m \u001b[0mepsilon\u001b[0m\u001b[1;33m*\u001b[0m\u001b[0mp_out\u001b[0m\u001b[1;33m\u001b[0m\u001b[1;33m\u001b[0m\u001b[0m\n\u001b[0m\u001b[0;32m     22\u001b[0m \u001b[1;33m\u001b[0m\u001b[0m\n\u001b[0;32m     23\u001b[0m     \u001b[1;31m#Performing the final leap\u001b[0m\u001b[1;33m\u001b[0m\u001b[1;33m\u001b[0m\u001b[0m\n",
      "\u001b[1;31mKeyboardInterrupt\u001b[0m: "
     ]
    }
   ],
   "source": [
    "sweep_list = np.linspace(1,1000,1000,dtype = int)\n",
    "phi_initial = [800,800,600]\n",
    "field_list = [[0,0,0]]\n",
    "var_1 = []\n",
    "var_2 = []\n",
    "var_3 = []\n",
    "for s in sweep_list:\n",
    "    field_list = accept_reject(s,phi_initial,1000,100)\n",
    "    var_1.append(field_list[0])\n",
    "    var_2.append(field_list[1])\n",
    "    var_3.append(field_list[2])"
   ]
  },
  {
   "cell_type": "markdown",
   "metadata": {},
   "source": [
    "Let's try to find the best fit parameters now"
   ]
  },
  {
   "cell_type": "code",
   "execution_count": null,
   "metadata": {},
   "outputs": [],
   "source": [
    "best_fit_params = []\n",
    "best_fit_params_err = []"
   ]
  },
  {
   "cell_type": "code",
   "execution_count": null,
   "metadata": {},
   "outputs": [],
   "source": [
    "best_fit_params[0] = var_1.mean()\n",
    "best_fit_params_err[0] = var_1.std()"
   ]
  },
  {
   "cell_type": "markdown",
   "metadata": {},
   "source": [
    "# Fitting to the data"
   ]
  },
  {
   "cell_type": "code",
   "execution_count": 16,
   "metadata": {},
   "outputs": [],
   "source": [
    "f = [960,1025,1055,1085,1130]\n",
    "f_err = [25,20,15,10,8]\n",
    "m_data = [.176,0.234,0.260,0.284,0.324]"
   ]
  },
  {
   "cell_type": "code",
   "execution_count": 21,
   "metadata": {},
   "outputs": [
    {
     "data": {
      "image/png": "[encoded data removed]",
      "text/plain": [
       "<Figure size 432x288 with 1 Axes>"
      ]
     },
     "metadata": {
      "needs_background": "light"
     },
     "output_type": "display_data"
    }
   ],
   "source": [
    "plt.scatter(m_data, f)\n",
    "plt.errorbar(m_data, f, yerr=f_err, fmt=\"o\")\n",
    "\n",
    "\n",
    "plt.xlabel('$N_{md}$')\n",
    "plt.ylabel('Acceptance rate')\n",
    "plt.show()"
   ]
  }
 ],
 "metadata": {
  "kernelspec": {
   "display_name": "Python 3",
   "language": "python",
   "name": "python3"
  },
  "language_info": {
   "codemirror_mode": {
    "name": "ipython",
    "version": 3
   },
   "file_extension": ".py",
   "mimetype": "text/x-python",
   "name": "python",
   "nbconvert_exporter": "python",
   "pygments_lexer": "ipython3",
   "version": "3.9.13"
  },
  "orig_nbformat": 4,
  "vscode": {
   "interpreter": {
    "hash": "4c953be089fe40a3161a6274bc29065db7f3727d31b32ae4ba9c807e41d13d19"
   }
  }
 },
 "nbformat": 4,
 "nbformat_minor": 2
}
