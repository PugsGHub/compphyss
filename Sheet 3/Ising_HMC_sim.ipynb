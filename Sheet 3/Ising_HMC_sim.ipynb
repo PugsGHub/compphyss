{
 "cells": [
  {
   "cell_type": "markdown",
   "metadata": {},
   "source": [
    "# Physics 760: Computational Physics\n",
    "## WS 2022/23\n",
    "### Week 3\n",
    "#### Pugazharasu Anancia Devaneyan, Rishi Kumar Senthil Kumar"
   ]
  },
  {
   "cell_type": "code",
   "execution_count": 264,
   "metadata": {},
   "outputs": [
    {
     "name": "stdout",
     "output_type": "stream",
     "text": [
      "Populating the interactive namespace from numpy and matplotlib\n"
     ]
    },
    {
     "name": "stderr",
     "output_type": "stream",
     "text": [
      "C:\\Users\\pugaz\\AppData\\Local\\Packages\\PythonSoftwareFoundation.Python.3.9_qbz5n2kfra8p0\\LocalCache\\local-packages\\Python39\\site-packages\\IPython\\core\\magics\\pylab.py:159: UserWarning: pylab import has clobbered these variables: ['number', 'random']\n",
      "`%matplotlib` prevents importing * from pylab and numpy\n",
      "  warn(\"pylab import has clobbered these variables: %s\"  % clobbered +\n"
     ]
    }
   ],
   "source": [
    "#setup the notebook\n",
    "%pylab inline\n",
    "import numpy as np\n",
    "import matplotlib.pyplot as plt\n",
    "import random\n",
    "import math as mth\n",
    "import scipy as sp\n",
    "from scipy import special"
   ]
  },
  {
   "cell_type": "markdown",
   "metadata": {},
   "source": [
    "# Leapfrog Algorithm"
   ]
  },
  {
   "cell_type": "code",
   "execution_count": 265,
   "metadata": {},
   "outputs": [],
   "source": [
    "def hammy(p,phi,beta,J,h,N):\n",
    "    #C\n",
    "    ham = ((p**2)/2) + ((phi**2)/(2*beta*J)) - (N*np.log(2*np.cosh((beta*h)+phi)))\n",
    "    return ham"
   ]
  },
  {
   "cell_type": "code",
   "execution_count": 266,
   "metadata": {},
   "outputs": [],
   "source": [
    "def leap(p0,phi0,J,h,beta,N,N_md):\n",
    "    '''\n",
    "    An implementation of the Leapfrog algorithm for the EOMs.\n",
    "\n",
    "    :param elapsed_bake_time: int - baking time already elapsed.\n",
    "    :return: int - remaining bake time (in minutes) derived from 'EXPECTED_BAKE_TIME'.\n",
    "\n",
    "    Function that takes the actual minutes the lasagna has been in the oven as\n",
    "    an argument and returns how many minutes the lasagna still needs to bake\n",
    "    based on the `EXPECTED_BAKE_TIME`.\n",
    "    '''\n",
    "    #Setting up the initial values\n",
    "    p = 0\n",
    "    phi = 0\n",
    "    epsilon = 1/N_md\n",
    "    \n",
    "    #Performing the first half step\n",
    "    p = p0\n",
    "    phi = phi0 + ((epsilon/2)*p0)\n",
    "    \n",
    "    #Iterating through the Ṇ\n",
    "    for i in range(1,N_md-1):\n",
    "        p = p - (epsilon*((phi/(beta*(J/N)))-(N*np.tanh((beta*h)+phi))))\n",
    "        phi += epsilon*p\n",
    "        \n",
    "    #Performing the final leap\n",
    "    p = p - (epsilon*((phi/(beta*(J/N)))-(N*np.tanh((beta*h)+phi))))\n",
    "    phi += (epsilon/2)*p\n",
    "    return p,phi"
   ]
  },
  {
   "cell_type": "markdown",
   "metadata": {},
   "source": [
    "Now we plot for the convergence versus the "
   ]
  },
  {
   "cell_type": "code",
   "execution_count": 268,
   "metadata": {},
   "outputs": [],
   "source": [
    "p_leap = 1\n",
    "phi_leap = 1\n",
    "J_leap = 0.5\n",
    "h_leap = 0.2\n",
    "beta_leap = 0.5\n",
    "N_leap = 30"
   ]
  },
  {
   "cell_type": "code",
   "execution_count": 269,
   "metadata": {},
   "outputs": [
    {
     "data": {
      "image/png": "[encoded data removed]",
      "text/plain": [
       "<Figure size 432x288 with 1 Axes>"
      ]
     },
     "metadata": {
      "needs_background": "light"
     },
     "output_type": "display_data"
    }
   ],
   "source": [
    "initial_hammy = hammy(p_leap,phi_leap,J_leap,h_leap,beta_leap,N_leap)\n",
    "N_mds = np.arange(10,100)\n",
    "y_axis = []\n",
    "\n",
    "for n in N_mds:\n",
    "    integ = leap(p_leap,phi_leap,beta_leap,J_leap,h_leap,N_leap,n)\n",
    "    final_hammy = hammy(integ[0],integ[1],J_leap,h_leap,beta_leap,N_leap) \n",
    "    y = (final_hammy-initial_hammy)/initial_hammy\n",
    "    y_axis.append(y)\n",
    "\n",
    "plt.plot(N_mds,y_axis,marker='.',markersize=9,linestyle='')\n",
    "#plt.yscale('log')\n",
    "plt.xlabel('$N_{md}$')\n",
    "plt.ylabel('$\\\\frac{\\\\mathcal{H}\\\\left[p_f, \\\\phi_f\\\\right]-\\\\mathcal{H}\\\\left[p_0, \\\\phi_0\\\\right]}{\\\\mathcal{H}\\\\left[p_0, \\\\phi_0\\\\right]}$')\n",
    "plt.grid()\n",
    "plt.savefig('Plots/h_v_n.png',dpi=300, bbox_inches = \"tight\")"
   ]
  },
  {
   "cell_type": "markdown",
   "metadata": {},
   "source": [
    "# Hybrid Monte Carlo algorithm"
   ]
  },
  {
   "cell_type": "code",
   "execution_count": 270,
   "metadata": {},
   "outputs": [],
   "source": [
    "def distribution_function(beta,J,h,N,x):\n",
    "    J_N = J/N\n",
    "    fun = np.exp(0.5*(beta*J_N*(x**2))+(beta*h*x))\n",
    "    return fun"
   ]
  },
  {
   "cell_type": "code",
   "execution_count": 7,
   "metadata": {},
   "outputs": [],
   "source": [
    "def partition_function(beta,J,h,N):\n",
    "    Z = 0\n",
    "    for n in range(N+1):\n",
    "        current = N-(2*n)\n",
    "        Z += special.comb(N, n)*distribution_function(beta,J,h,N,current)\n",
    "    return Z"
   ]
  },
  {
   "cell_type": "code",
   "execution_count": 8,
   "metadata": {},
   "outputs": [],
   "source": [
    "def exact_energy(beta,J,h,N):\n",
    "    energy = 0\n",
    "    Z = partition_function(beta,J,h,N)\n",
    "    for n in range(N+1):\n",
    "        current = N-(2*n)\n",
    "        energy += special.comb(N, n)*((0.5*beta*(J/N)*(current**2)) + (beta*h*current))*distribution_function(beta,J,h,N,current)\n",
    "    energy = energy*(1/(N*Z))*(-1)    \n",
    "    return energy"
   ]
  },
  {
   "cell_type": "code",
   "execution_count": 9,
   "metadata": {},
   "outputs": [],
   "source": [
    "def exact_mag(beta,J,h,N):\n",
    "    mag = 0\n",
    "    Z = partition_function(beta,J,h,N)\n",
    "    for n in range(N+1):\n",
    "        current = N-(2*n)\n",
    "        mag += special.comb(N, n)*current*distribution_function(beta,J,h,N,current)\n",
    "    mag = mag/(N*Z)        \n",
    "    return mag"
   ]
  },
  {
   "cell_type": "code",
   "execution_count": 221,
   "metadata": {},
   "outputs": [],
   "source": [
    "def accept_reject(sweeps,p,phi,beta,J,h,N,N_md):\n",
    "    phi_list = []\n",
    "    phi_list.append(phi)\n",
    "    \n",
    "    new_vars = []\n",
    "    new_hammy = 0\n",
    "    \n",
    "    for i in range(sweeps):\n",
    "        \n",
    "        \n",
    "        init_ham = hammy(p,phi,J,h,beta,N)\n",
    "        \n",
    "        new_vars = leap(p,phi,J,h,beta,N,N_md)\n",
    "        \n",
    "        new_hammy = hammy(new_vars[0],new_vars[1],J,h,beta,N)\n",
    "        \n",
    "        \n",
    "        rand = np.random.random()\n",
    "        \n",
    "        # fill in the metropolis critereon\n",
    "        if rand<=min(1,np.exp(init_ham - new_hammy)):\n",
    "            \n",
    "            #p = random.gauss(0,1)\n",
    "            p = new_vars[0]\n",
    "            phi = new_vars[1]\n",
    "            phi_list.append(new_vars[1])\n",
    "            \n",
    "        else:\n",
    "            p = random.gauss(0,1)\n",
    "            phi_list.append(phi_list[-1])\n",
    "        \n",
    "    return phi_list"
   ]
  },
  {
   "cell_type": "code",
   "execution_count": 197,
   "metadata": {},
   "outputs": [],
   "source": [
    "def numerical_mag(beta,h,phi_list):\n",
    "    mag = 0\n",
    "    beta_h = beta * h\n",
    "    for phi in phi_list:\n",
    "        mag += abs(np.tanh((beta_h + phi)))\n",
    "    mag = mag/(len(phi_list))\n",
    "    return mag"
   ]
  },
  {
   "cell_type": "code",
   "execution_count": 218,
   "metadata": {},
   "outputs": [],
   "source": [
    "def numerical_energy(J,h,beta,N,phi_list):\n",
    "    energy = 0\n",
    "    for phi in phi_list:\n",
    "        energy += (1/(2*N*beta)) - ((phi**2)/(2*(beta**2)*J)) - (h*np.tanh((beta*h) + phi))\n",
    "    energy = energy/(len(phi_list))\n",
    "    return energy"
   ]
  },
  {
   "cell_type": "code",
   "execution_count": 287,
   "metadata": {},
   "outputs": [],
   "source": [
    "J_input = np.linspace(0.2,2,100)\n",
    "N_md = 21\n",
    "sweeps = N_md*100\n",
    "site_N = 10\n",
    "beta = 1\n",
    "h_fixed = 0.5"
   ]
  },
  {
   "cell_type": "code",
   "execution_count": 288,
   "metadata": {},
   "outputs": [],
   "source": [
    "initial_phi = 0.5\n",
    "initial_p = random.gauss(0,1)"
   ]
  },
  {
   "cell_type": "code",
   "execution_count": 289,
   "metadata": {},
   "outputs": [],
   "source": [
    "m_numeric = []\n",
    "m_exact = []\n",
    "\n",
    "for i in J_input:\n",
    "    field_list = accept_reject(sweeps,initial_p,initial_phi,beta,i,h_fixed,site_N,N_md)\n",
    "    numeric_mag = numerical_mag(beta,h_fixed,field_list)\n",
    "    exact_magne = exact_mag(beta,i,h_fixed,site_N)\n",
    "    m_numeric.append(numeric_mag)\n",
    "    m_exact.append(exact_magne)"
   ]
  },
  {
   "cell_type": "code",
   "execution_count": 292,
   "metadata": {},
   "outputs": [
    {
     "data": {
      "image/png": "[encoded data removed]",
      "text/plain": [
       "<Figure size 432x288 with 1 Axes>"
      ]
     },
     "metadata": {
      "needs_background": "light"
     },
     "output_type": "display_data"
    }
   ],
   "source": [
    "plt.plot((J_input*beta),m_numeric,marker='o',label=\"Simulation\",linestyle='')\n",
    "plt.plot((J_input*beta), m_exact, color ='#fbbb00', label='Exact solution')\n",
    "\n",
    "plt.xlabel('$\\\\beta J$')\n",
    "plt.ylabel('$\\\\langle m \\\\rangle$')\n",
    "plt.legend(loc='lower right',prop={'size': 7})\n",
    "plt.grid()\n",
    "plt.savefig('Plots/m_v_j.png',dpi=300, bbox_inches = \"tight\")"
   ]
  },
  {
   "cell_type": "code",
   "execution_count": 275,
   "metadata": {},
   "outputs": [],
   "source": [
    "e_numeric = []\n",
    "e_exact = []\n",
    "for i in J_input:\n",
    "    field_list_2 = accept_reject(sweeps,initial_p,initial_phi,beta,i,h_fixed,site_N,N_md)\n",
    "    numeric_ene = numerical_energy(i,h_fixed,beta,site_N,field_list_2)\n",
    "    exact_ene = exact_energy(beta,i,h_fixed,site_N)\n",
    "    e_numeric.append(numeric_ene)\n",
    "    e_exact.append(exact_ene)"
   ]
  },
  {
   "cell_type": "code",
   "execution_count": 280,
   "metadata": {},
   "outputs": [
    {
     "data": {
      "image/png": "[encoded data removed]",
      "text/plain": [
       "<Figure size 432x288 with 1 Axes>"
      ]
     },
     "metadata": {
      "needs_background": "light"
     },
     "output_type": "display_data"
    }
   ],
   "source": [
    "plt.plot((J_input*beta),(e_numeric),marker='o',label=\"Simulation\",linestyle='')\n",
    "plt.plot((J_input*beta),e_exact, color ='#fbbb00', label='Exact solution')\n",
    "\n",
    "plt.xlabel('$\\\\beta J$')\n",
    "plt.ylabel('$\\\\langle \\\\beta \\\\epsilon \\\\rangle$')\n",
    "plt.legend(loc='lower right',prop={'size': 7})\n",
    "plt.grid()\n",
    "plt.savefig('Plots/e_v_j.png')"
   ]
  },
  {
   "cell_type": "markdown",
   "metadata": {},
   "source": [
    "Now we try to plot for the acceptance rate."
   ]
  },
  {
   "cell_type": "code",
   "execution_count": 284,
   "metadata": {},
   "outputs": [],
   "source": [
    "acceptance_rate = []\n",
    "Nmd = np.linspace(10,100,100,dtype=int)\n",
    "for number in Nmd:\n",
    "    acceptance_rate.append((len(list(set(accept_reject(sweeps,initial_p,initial_phi,beta,0.5,h_fixed,site_N,number))))/number)*100)"
   ]
  },
  {
   "cell_type": "code",
   "execution_count": 285,
   "metadata": {},
   "outputs": [
    {
     "data": {
      "image/png": "[encoded data removed]",
      "text/plain": [
       "<Figure size 432x288 with 1 Axes>"
      ]
     },
     "metadata": {
      "needs_background": "light"
     },
     "output_type": "display_data"
    }
   ],
   "source": [
    "plt.plot(Nmd, acceptance_rate, color ='#fbbb00')\n",
    "\n",
    "plt.xlabel('$N_{md}$')\n",
    "plt.ylabel('Acceptance rate')\n",
    "plt.savefig('Plots/acc.png',dpi=300, bbox_inches = \"tight\")"
   ]
  },
  {
   "cell_type": "code",
   "execution_count": 286,
   "metadata": {},
   "outputs": [
    {
     "data": {
      "text/plain": [
       "21"
      ]
     },
     "metadata": {},
     "output_type": "display_data"
    }
   ],
   "source": [
    "display(Nmd[np.argmax(acceptance_rate)])"
   ]
  }
 ],
 "metadata": {
  "kernelspec": {
   "display_name": "Python 3",
   "language": "python",
   "name": "python3"
  },
  "language_info": {
   "codemirror_mode": {
    "name": "ipython",
    "version": 3
   },
   "file_extension": ".py",
   "mimetype": "text/x-python",
   "name": "python",
   "nbconvert_exporter": "python",
   "pygments_lexer": "ipython3",
   "version": "3.9.13"
  },
  "orig_nbformat": 4,
  "vscode": {
   "interpreter": {
    "hash": "4c953be089fe40a3161a6274bc29065db7f3727d31b32ae4ba9c807e41d13d19"
   }
  }
 },
 "nbformat": 4,
 "nbformat_minor": 2
}
