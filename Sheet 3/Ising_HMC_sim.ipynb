{
 "cells": [
  {
   "cell_type": "markdown",
   "metadata": {},
   "source": [
    "# Physics 760: Computational Physics\n",
    "## WS 2022/23\n",
    "### Week 3\n",
    "#### Pugazharasu Anancia Devaneyan, Rishi Kumar Senthil Kumar"
   ]
  },
  {
   "cell_type": "code",
   "execution_count": null,
   "metadata": {},
   "outputs": [],
   "source": [
    "#setup the notebook\n",
    "%pylab inline\n",
    "import numpy as np\n",
    "import matplotlib.pyplot as plt\n",
    "import random\n",
    "import math as mth\n",
    "import scipy as sp\n",
    "from scipy import special"
   ]
  },
  {
   "cell_type": "markdown",
   "metadata": {},
   "source": [
    "# Leapfrog Algorithm"
   ]
  },
  {
   "cell_type": "markdown",
   "metadata": {},
   "source": [
    "First we define what energy difference i.e. $\\Delta S$ that was defined in the lecture to be numerically."
   ]
  },
  {
   "cell_type": "code",
   "execution_count": 2,
   "metadata": {},
   "outputs": [],
   "source": [
    "def hammy(p,phi,beta,J,h,N):\n",
    "    #C\n",
    "    ham = ((p**2)/2) + ((phi**2)/(2*beta*J)) - (N*np.log(2*np.cosh((beta*h)+phi)))\n",
    "    return ham"
   ]
  },
  {
   "cell_type": "code",
   "execution_count": 3,
   "metadata": {},
   "outputs": [],
   "source": [
    "def leap(p0,phi0,J,h,beta,N,N_md):\n",
    "    '''\n",
    "    An implementation of the Leapfrog algorithm for the EOMs.\n",
    "\n",
    "    :param elapsed_bake_time: int - baking time already elapsed.\n",
    "    :return: int - remaining bake time (in minutes) derived from 'EXPECTED_BAKE_TIME'.\n",
    "\n",
    "    Function that takes the actual minutes the lasagna has been in the oven as\n",
    "    an argument and returns how many minutes the lasagna still needs to bake\n",
    "    based on the `EXPECTED_BAKE_TIME`.\n",
    "    '''\n",
    "    #Setting up the initial values\n",
    "    p = 0\n",
    "    phi = 0\n",
    "    epsilon = 1/N_md\n",
    "    \n",
    "    #Performing the first half step\n",
    "    p = p0\n",
    "    phi = phi0 + ((epsilon/2)*p0)\n",
    "    \n",
    "    #Iterating through the Ṇ\n",
    "    for i in range(1,N_md-1):\n",
    "        p = p - (epsilon*((phi/(beta*J))-(N*np.tanh((beta*h)+phi))))\n",
    "        phi += epsilon*p\n",
    "        \n",
    "    #Performing the final leap\n",
    "    p = p - (epsilon*((phi/(beta*J))-(N*np.tanh((beta*h)+phi))))\n",
    "    phi += (epsilon/2)*p\n",
    "    return p,phi"
   ]
  },
  {
   "cell_type": "markdown",
   "metadata": {},
   "source": [
    "Now we plot"
   ]
  },
  {
   "cell_type": "code",
   "execution_count": 22,
   "metadata": {},
   "outputs": [],
   "source": [
    "p_leap = 1\n",
    "phi_leap = 1\n",
    "J_leap = 0.5\n",
    "h_leap = 0.2\n",
    "beta_leap = 0.5\n",
    "N_leap = 20"
   ]
  },
  {
   "cell_type": "code",
   "execution_count": 38,
   "metadata": {},
   "outputs": [
    {
     "data": {
      "image/png": "[encoded data removed]",
      "text/plain": [
       "<Figure size 432x288 with 1 Axes>"
      ]
     },
     "metadata": {
      "needs_background": "light"
     },
     "output_type": "display_data"
    }
   ],
   "source": [
    "initial_hammy = hammy(p_leap,phi_leap,J_leap,h_leap,beta_leap,N_leap)\n",
    "N_mds = np.arange(10,100)\n",
    "y_axis = []\n",
    "\n",
    "for n in N_mds:\n",
    "    integ = leap(p_leap,phi_leap,beta_leap,J_leap,h_leap,N_leap,n)\n",
    "    final_hammy = hammy(integ[0],integ[1],J_leap,h_leap,beta_leap,N_leap) \n",
    "    y = (final_hammy-initial_hammy)/initial_hammy\n",
    "    y_axis.append(y)\n",
    "\n",
    "plt.plot(N_mds,y_axis,marker='.',markersize=9,linestyle='')\n",
    "plt.yscale('log')\n",
    "plt.xlabel('$N_{md}$')\n",
    "plt.ylabel('$\\\\frac{\\\\mathcal{H}\\\\left[p_f, \\\\phi_f\\\\right]-\\\\mathcal{H}\\\\left[p_0, \\\\phi_0\\\\right]}{\\\\mathcal{H}\\\\left[p_0, \\\\phi_0\\\\right]}$')\n",
    "plt.grid()\n",
    "plt.savefig('Plots/h_v_n.png',dpi=300, bbox_inches = \"tight\")"
   ]
  },
  {
   "cell_type": "markdown",
   "metadata": {},
   "source": [
    "# Hybrid Monte Carlo algorithm"
   ]
  },
  {
   "cell_type": "code",
   "execution_count": 27,
   "metadata": {},
   "outputs": [],
   "source": [
    "def distribution_function(beta,J,h,N,x):\n",
    "    J_N = J/N\n",
    "    fun = np.exp(0.5*(beta*J_N*(x**2))+(beta*h*x))\n",
    "    return fun"
   ]
  },
  {
   "cell_type": "code",
   "execution_count": 32,
   "metadata": {},
   "outputs": [],
   "source": [
    "def partition_function(beta,J,h,N):\n",
    "    Z = 0\n",
    "    for n in range(N):\n",
    "        current = N-(2*n)\n",
    "        Z += special.comb(N, n)*distribution_function(beta,J,h,N,current)\n",
    "    return Z"
   ]
  },
  {
   "cell_type": "code",
   "execution_count": 34,
   "metadata": {},
   "outputs": [],
   "source": [
    "def exact_energy(beta,J,h,N):\n",
    "    energy = 0\n",
    "    Z = partition_function(beta,J,h,N)\n",
    "    for n in range(N):\n",
    "        current = N-(2*n)\n",
    "        energy += special.comb(N, n)*((0.5*beta*(J/N)*(current**2))+ (beta*h*current))*distribution_function(beta,J,h,N,current)\n",
    "    energy = energy*(1/(N*Z))*(-1)    \n",
    "    return energy"
   ]
  },
  {
   "cell_type": "code",
   "execution_count": 35,
   "metadata": {},
   "outputs": [],
   "source": [
    "def exact_mag(beta,J,h,N):\n",
    "    mag = 0\n",
    "    Z = partition_function(beta,J,h,N)\n",
    "    for n in range(N):\n",
    "        current = N-(2*n)\n",
    "        mag += special.comb(N, n)*current*distribution_function(beta,J,h,N,current)\n",
    "    mag = mag*(1/(N*Z))        \n",
    "    return mag"
   ]
  },
  {
   "cell_type": "code",
   "execution_count": 36,
   "metadata": {},
   "outputs": [],
   "source": [
    "initial_phi = 0.4\n",
    "initial_p = random.gauss(0,1)"
   ]
  },
  {
   "cell_type": "code",
   "execution_count": null,
   "metadata": {},
   "outputs": [],
   "source": [
    "def accept_reject(sweeps,p,phi,beta,J,h,N,N_md,freq=10):\n",
    "    phi_list = []\n",
    "    phi.append(phi)\n",
    "    \n",
    "    init_ham = hammy()\n",
    "    new_vars = []\n",
    "    new_hammy = 0\n",
    "    \n",
    "    for i in range(sweeps):\n",
    "        new_vars = leap()\n",
    "        new_hammy = hammy()\n",
    "        \n",
    "        rand = np.random.random()\n",
    "        # fill in the metropolis critereon\n",
    "        if rand<min(1,np.exp(init_ham - new_hammy)) :\n",
    "            phi_list.append(new_vars[])\n",
    "        else:\n",
    "            phi_list.append(new_vars[])\n",
    "        \n",
    "    return phi_list"
   ]
  },
  {
   "cell_type": "code",
   "execution_count": 24,
   "metadata": {},
   "outputs": [],
   "source": [
    "def numerical_mag(beta_h,phi):\n",
    "    mag = np.tanh(beta_h + phi)\n",
    "    return mag"
   ]
  },
  {
   "cell_type": "code",
   "execution_count": 25,
   "metadata": {},
   "outputs": [],
   "source": [
    "def numerical_energy(J,h,beta,N,phi):\n",
    "    J_hat = J/N\n",
    "    energy = (1/(N*beta)) - ((phi**2)/(2*(beta**2)*J)) - (h*numerical_mag((beta*h),phi))\n",
    "    return energy"
   ]
  },
  {
   "cell_type": "code",
   "execution_count": null,
   "metadata": {},
   "outputs": [],
   "source": [
    "h_input = np.linspace(-1,1,100)\n",
    "h_fixed = 0.5\n",
    "N_fixed = 20\n",
    "N_input = [2,3,4,4,6,7,8,9,10,11,12,13,14,15,16,17,18,19,20]\n",
    "Temp_set = 0.75\n",
    "J_fixed = 1\n",
    "sweeps = N_fixed*100\n",
    "beta = 1/Temp_set"
   ]
  },
  {
   "cell_type": "code",
   "execution_count": null,
   "metadata": {},
   "outputs": [],
   "source": [
    "m_thermo_1 = []\n",
    "m_exact_1 = []\n",
    "for i in h_input:\n",
    "    m_thermo_1.append(thermo_magnetization(J_fixed,float(i),Temp_set))\n",
    "    m_exact_1.append(exact_magnetization(J_fixed,i,Temp_set,N_fixed)/100)"
   ]
  },
  {
   "cell_type": "code",
   "execution_count": null,
   "metadata": {},
   "outputs": [],
   "source": [
    "m_vs_h = []\n",
    "for h in h_input:\n",
    "    m_h = accept_reject(sweeps, N_fixed, beta, J_fixed,h)\n",
    "    mean_m = np.mean(m_h[len(m_h)//2:])\n",
    "    m_vs_h.append(mean_m)\n",
    "\n",
    "\n",
    "plt.plot(h_input,m_vs_h,marker='o',label=\"Simulation\",linestyle='')\n",
    "plt.plot(h_input, m_thermo_1, color ='#fbbb00', label='Solution in the Thermodynamic Limit')\n",
    "plt.plot(h_input, m_exact_1, color = '#949387', label='Exact solution')\n",
    "\n",
    "plt.xlabel('$h$')\n",
    "plt.ylabel('$\\\\langle m \\\\rangle$')\n",
    "plt.legend(loc='lower right',prop={'size': 7})\n",
    "plt.savefig('m_v_h.png')"
   ]
  }
 ],
 "metadata": {
  "kernelspec": {
   "display_name": "Python 3",
   "language": "python",
   "name": "python3"
  },
  "language_info": {
   "codemirror_mode": {
    "name": "ipython",
    "version": 3
   },
   "file_extension": ".py",
   "mimetype": "text/x-python",
   "name": "python",
   "nbconvert_exporter": "python",
   "pygments_lexer": "ipython3",
   "version": "3.9.13"
  },
  "orig_nbformat": 4,
  "vscode": {
   "interpreter": {
    "hash": "4c953be089fe40a3161a6274bc29065db7f3727d31b32ae4ba9c807e41d13d19"
   }
  }
 },
 "nbformat": 4,
 "nbformat_minor": 2
}
