{
 "cells": [
  {
   "cell_type": "markdown",
   "metadata": {},
   "source": [
    "# Physics 760: Computational Physics\n",
    "## WS 2022/23\n",
    "### Week 5\n",
    "#### Pugazharasu Anancia Devaneyan, Rishi Kumar Senthil Kumar"
   ]
  },
  {
   "cell_type": "code",
   "execution_count": 1,
   "metadata": {},
   "outputs": [
    {
     "name": "stdout",
     "output_type": "stream",
     "text": [
      "Populating the interactive namespace from numpy and matplotlib\n"
     ]
    }
   ],
   "source": [
    "#setup the notebook\n",
    "%pylab inline\n",
    "import numpy as np\n",
    "import matplotlib.pyplot as plt\n",
    "import random\n",
    "import math as mth\n",
    "import scipy as sp\n",
    "from scipy import special"
   ]
  },
  {
   "cell_type": "markdown",
   "metadata": {},
   "source": [
    "# Leapfrog Algorithm"
   ]
  },
  {
   "cell_type": "code",
   "execution_count": 2,
   "metadata": {},
   "outputs": [],
   "source": [
    "def hammy(p,phi):\n",
    "    #Creating the hamiltonian\n",
    "    ham = ((p**2)/2) + ((phi**2)) - np.log(2 + (phi**2))\n",
    "    return ham"
   ]
  },
  {
   "cell_type": "code",
   "execution_count": 3,
   "metadata": {},
   "outputs": [],
   "source": [
    "def leap(p0,phi0,N_md):\n",
    "    '''\n",
    "    An implementation of the Leapfrog algorithm for the EOMs.\n",
    "\n",
    "    :param elapsed_bake_time: int - baking time already elapsed.\n",
    "    :return: int - remaining bake time (in minutes) derived from 'EXPECTED_BAKE_TIME'.\n",
    "\n",
    "    Function that takes the actual minutes the lasagna has been in the oven as\n",
    "    an argument and returns how many minutes the lasagna still needs to bake\n",
    "    based on the `EXPECTED_BAKE_TIME`.\n",
    "    '''\n",
    "    #Setting up the initial values\n",
    "    p = 0\n",
    "    phi = 0\n",
    "    epsilon = 0.1/N_md\n",
    "    \n",
    "    #Performing the first half step\n",
    "    p = p0\n",
    "    phi = phi0 + ((epsilon/2)*p0)\n",
    "    \n",
    "    #Iterating through the Ṇ\n",
    "    for i in range(1,N_md):\n",
    "        p = p - (epsilon*((phi**2)-(np.log(2+(phi**2)))))\n",
    "        phi += epsilon*p\n",
    "        \n",
    "    #Performing the final leap\n",
    "    p = p - (epsilon*((phi**2)-(np.log(2+(phi**2)))))\n",
    "    phi += (epsilon/2)*p\n",
    "    return p,phi"
   ]
  },
  {
   "cell_type": "markdown",
   "metadata": {},
   "source": [
    "Now we plot for the convergence versus the "
   ]
  },
  {
   "cell_type": "code",
   "execution_count": 4,
   "metadata": {},
   "outputs": [],
   "source": [
    "p_leap = 1\n",
    "phi_leap = 1\n",
    "N_leap = 3"
   ]
  },
  {
   "cell_type": "code",
   "execution_count": 5,
   "metadata": {},
   "outputs": [
    {
     "data": {
      "image/png": "[encoded data removed]",
      "text/plain": [
       "<Figure size 432x288 with 1 Axes>"
      ]
     },
     "metadata": {
      "needs_background": "light"
     },
     "output_type": "display_data"
    }
   ],
   "source": [
    "initial_hammy = hammy(p_leap,phi_leap)\n",
    "N_mds = np.arange(10,100)\n",
    "y_axis = []\n",
    "\n",
    "for n in N_mds:\n",
    "    integ = leap(p_leap,phi_leap,n)\n",
    "    final_hammy = hammy(integ[0],integ[1]) \n",
    "    y = (final_hammy-initial_hammy)/initial_hammy\n",
    "    y_axis.append(y)\n",
    "\n",
    "plt.plot(N_mds,y_axis,marker='.',markersize=9,linestyle='')\n",
    "#plt.yscale('log')\n",
    "plt.xlabel('$N_{md}$')\n",
    "plt.ylabel('$\\\\frac{\\\\mathcal{H}\\\\left[p_f, \\\\phi_f\\\\right]-\\\\mathcal{H}\\\\left[p_0, \\\\phi_0\\\\right]}{\\\\mathcal{H}\\\\left[p_0, \\\\phi_0\\\\right]}$')\n",
    "plt.grid()\n",
    "plt.savefig('Plots/h_v_n.png',dpi=300, bbox_inches = \"tight\")"
   ]
  },
  {
   "cell_type": "markdown",
   "metadata": {},
   "source": [
    "# Hybrid Monte Carlo algorithm"
   ]
  },
  {
   "cell_type": "code",
   "execution_count": 133,
   "metadata": {},
   "outputs": [],
   "source": [
    "def observable(phi):\n",
    "    output = np.cos(np.sqrt(1 + (phi**2)))\n",
    "    return output"
   ]
  },
  {
   "cell_type": "code",
   "execution_count": 134,
   "metadata": {},
   "outputs": [],
   "source": [
    "def accept_reject(sweeps,p,phi,N_md):\n",
    "    phi_list = []\n",
    "    phi_list.append(observable(phi))\n",
    "    \n",
    "    new_vars = []\n",
    "    new_hammy = 0\n",
    "    \n",
    "    for i in range(sweeps):\n",
    "        \n",
    "        p = random.gauss(0,1)\n",
    "        \n",
    "        init_ham = hammy(p,phi)\n",
    "        \n",
    "        new_vars = leap(p,phi,N_md)\n",
    "        \n",
    "        new_hammy = hammy(new_vars[0],new_vars[1])\n",
    "        \n",
    "        rand = np.random.random()\n",
    "        \n",
    "        # fill in the metropolis critereon\n",
    "        if rand<=min(1,np.exp(init_ham - new_hammy)):\n",
    "            \n",
    "            #p = random.gauss(0,1)\n",
    "            #p = new_vars[0]\n",
    "            phi = new_vars[1]\n",
    "            phi_list.append(observable(new_vars[1]))\n",
    "            \n",
    "        else:\n",
    "            \n",
    "            phi_list.append(phi_list[-1])\n",
    "        \n",
    "    return phi_list"
   ]
  },
  {
   "cell_type": "code",
   "execution_count": 135,
   "metadata": {},
   "outputs": [],
   "source": [
    "piece_length = 3 #1/30\n",
    "no_traj = 1000000\n",
    "counter = 0\n",
    "#while counter < no_traj:\n",
    "#    markov_chain = accept_reject(1)\n",
    "markov_chain = accept_reject(no_traj,1,1,piece_length)"
   ]
  },
  {
   "cell_type": "code",
   "execution_count": 154,
   "metadata": {},
   "outputs": [
    {
     "data": {
      "image/png": "[encoded data removed]",
      "text/plain": [
       "<Figure size 432x288 with 1 Axes>"
      ]
     },
     "metadata": {
      "needs_background": "light"
     },
     "output_type": "display_data"
    }
   ],
   "source": [
    "scale = np.linspace(0,len(markov_chain),len(markov_chain), dtype=int)\n",
    "plt.plot(scale,markov_chain,'b-')\n",
    "#plt.yscale('log')\n",
    "#plt.xlabel('$N_{md}$')\n",
    "#plt.ylabel('$\\\\frac{\\\\mathcal{H}\\\\left[p_f, \\\\phi_f\\\\right]-\\\\mathcal{H}\\\\left[p_0, \\\\phi_0\\\\right]}{\\\\mathcal{H}\\\\left[p_0, \\\\phi_0\\\\right]}$')\n",
    "#plt.grid()\n",
    "plt.savefig('Plots/thermal.png',dpi=300, bbox_inches = \"tight\")"
   ]
  },
  {
   "cell_type": "code",
   "execution_count": 155,
   "metadata": {},
   "outputs": [],
   "source": [
    "ntherm = 500\n",
    "markov_mod = np.delete(np.array(markov_chain),[i for i in range(ntherm)])"
   ]
  },
  {
   "cell_type": "code",
   "execution_count": 8,
   "metadata": {},
   "outputs": [],
   "source": [
    "def correlation(t,phi_list):\n",
    "    mean = np.mean(phi_list)\n",
    "    N = len(phi_list)\n",
    "    summand = 0\n",
    "    for i in range(N-t):\n",
    "        #summand += (observable(phi_list[i])-mean)*(observable(phi_list[i+t])-mean)\n",
    "        summand += (phi_list[i]-mean)*(phi_list[i+t]-mean)\n",
    "    summand = summand/(N-t)\n",
    "    return summand"
   ]
  },
  {
   "cell_type": "code",
   "execution_count": 9,
   "metadata": {},
   "outputs": [],
   "source": [
    "def autocorrelation(t,phi_list):\n",
    "    return  correlation(t,phi_list)/correlation(0,phi_list)"
   ]
  },
  {
   "cell_type": "code",
   "execution_count": 10,
   "metadata": {},
   "outputs": [],
   "source": [
    "def normalized_time(phi_list,W):\n",
    "    summand = 0\n",
    "    for t in range(W):\n",
    "        summand += autocorrelation(t,phi_list)\n",
    "    summand += 0.5 * autocorrelation(0,phi_list)\n",
    "    return summand"
   ]
  },
  {
   "cell_type": "code",
   "execution_count": null,
   "metadata": {},
   "outputs": [],
   "source": [
    "1551"
   ]
  },
  {
   "cell_type": "code",
   "execution_count": 188,
   "metadata": {},
   "outputs": [
    {
     "data": {
      "text/plain": [
       "0.019947124920502057"
      ]
     },
     "metadata": {},
     "output_type": "display_data"
    }
   ],
   "source": [
    "#rand = np.linspace(1, 500,1000, dtype = int)\n",
    "#for i in rand:\n",
    "    #if correlation(i,markov_chain) <= 0:\n",
    "        #display(rand)\n",
    "        #break\n",
    "display(correlation(100,markov_mod))"
   ]
  },
  {
   "cell_type": "code",
   "execution_count": 190,
   "metadata": {},
   "outputs": [
    {
     "data": {
      "text/plain": [
       "80.05794537110154"
      ]
     },
     "execution_count": 190,
     "metadata": {},
     "output_type": "execute_result"
    }
   ],
   "source": [
    "normalized_time(markov_mod,1551)"
   ]
  },
  {
   "cell_type": "code",
   "execution_count": 192,
   "metadata": {},
   "outputs": [],
   "source": [
    "norm_tim = 80.05794537110154"
   ]
  },
  {
   "cell_type": "code",
   "execution_count": 199,
   "metadata": {},
   "outputs": [],
   "source": [
    "corr_list = []\n",
    "time = np.linspace(0,1000,1000,dtype=int)\n",
    "for i in time:\n",
    "    corr_list.append(autocorrelation(i,markov_mod))"
   ]
  },
  {
   "cell_type": "code",
   "execution_count": 202,
   "metadata": {},
   "outputs": [
    {
     "data": {
      "image/png": "[encoded data removed]",
      "text/plain": [
       "<Figure size 432x288 with 1 Axes>"
      ]
     },
     "metadata": {
      "needs_background": "light"
     },
     "output_type": "display_data"
    }
   ],
   "source": [
    "plt.plot(time,np.exp(-time/norm_tim),'b-',label='$e^{-t/\\\\tau_{int}}$')\n",
    "plt.plot(time,corr_list,'r-',label = '$\\\\Gamma(t)$')\n",
    "#plt.plot(time,autocorrelation(time,markov_mod),'r-' )\n",
    "#plt.yscale('log')\n",
    "plt.xlabel('$t$')\n",
    "#plt.ylabel('$\\\\frac{\\\\mathcal{H}\\\\left[p_f, \\\\phi_f\\\\right]-\\\\mathcal{H}\\\\left[p_0, \\\\phi_0\\\\right]}{\\\\mathcal{H}\\\\left[p_0, \\\\phi_0\\\\right]}$')\n",
    "plt.legend()\n",
    "plt.grid()\n",
    "plt.savefig('Plots/corr_v_e.png',dpi=300, bbox_inches = \"tight\")"
   ]
  },
  {
   "cell_type": "code",
   "execution_count": 203,
   "metadata": {},
   "outputs": [],
   "source": [
    "def binner(phi_list, bind_width):\n",
    "    bin_list = []\n",
    "    for i in range(0,len(phi_list),bind_width):\n",
    "        bin_list.append(np.mean(phi_list[i:i+bind_width]))\n",
    "    return bin_list"
   ]
  },
  {
   "cell_type": "code",
   "execution_count": 217,
   "metadata": {},
   "outputs": [],
   "source": [
    "bin_list = [1000,10000,100000]\n",
    "corr_list_2 = []\n",
    "corr_list_3 = []\n",
    "corr_list_4 = []\n",
    "markov_binned = binner(markov_mod,50)\n",
    "for i in time:\n",
    "    corr_list_2.append(autocorrelation(i,binner(markov_mod,100)))\n",
    "for i in time:\n",
    "    corr_list_3.append(autocorrelation(i,binner(markov_mod,50)))\n",
    "for i in time:\n",
    "    corr_list_4.append(autocorrelation(i,binner(markov_mod,25)))"
   ]
  },
  {
   "cell_type": "code",
   "execution_count": 223,
   "metadata": {},
   "outputs": [
    {
     "data": {
      "image/png": "[encoded data removed]",
      "text/plain": [
       "<Figure size 432x288 with 1 Axes>"
      ]
     },
     "metadata": {
      "needs_background": "light"
     },
     "output_type": "display_data"
    }
   ],
   "source": [
    "plt.plot(time,corr_list_2,'g-',label = 'Bind width = 100')\n",
    "plt.plot(time,corr_list_3,'-b',label = 'Bind width = 50')\n",
    "plt.plot(time,corr_list_4,'-r',label = 'Bind width = 25')\n",
    "#plt.plot(time,autocorrelation(time,markov_mod),'r-' )\n",
    "#plt.yscale('log')\n",
    "plt.xlabel('$t$')\n",
    "plt.xlim(0,20)\n",
    "#plt.ylabel('$\\\\frac{\\\\mathcal{H}\\\\left[p_f, \\\\phi_f\\\\right]-\\\\mathcal{H}\\\\left[p_0, \\\\phi_0\\\\right]}{\\\\mathcal{H}\\\\left[p_0, \\\\phi_0\\\\right]}$')\n",
    "plt.legend()\n",
    "plt.grid()\n",
    "plt.savefig('Plots/bin_v_t.png',dpi=300, bbox_inches = \"tight\")"
   ]
  },
  {
   "cell_type": "code",
   "execution_count": null,
   "metadata": {},
   "outputs": [],
   "source": []
  },
  {
   "cell_type": "code",
   "execution_count": 287,
   "metadata": {},
   "outputs": [],
   "source": [
    "N_md = 21\n",
    "sweeps = N_md*100\n",
    "site_N = 10\n",
    "beta = 1\n",
    "h_fixed = 0.5"
   ]
  },
  {
   "cell_type": "code",
   "execution_count": 288,
   "metadata": {},
   "outputs": [],
   "source": [
    "initial_phi = 0.5\n",
    "initial_p = random.gauss(0,1)"
   ]
  },
  {
   "cell_type": "code",
   "execution_count": 289,
   "metadata": {},
   "outputs": [],
   "source": [
    "m_numeric = []\n",
    "m_exact = []\n",
    "\n",
    "for i in J_input:\n",
    "    field_list = accept_reject(sweeps,initial_p,initial_phi,beta,i,h_fixed,site_N,N_md)\n",
    "    numeric_mag = numerical_mag(beta,h_fixed,field_list)\n",
    "    exact_magne = exact_mag(beta,i,h_fixed,site_N)\n",
    "    m_numeric.append(numeric_mag)\n",
    "    m_exact.append(exact_magne)"
   ]
  },
  {
   "cell_type": "code",
   "execution_count": 292,
   "metadata": {},
   "outputs": [
    {
     "data": {
      "image/png": "[encoded data removed]",
      "text/plain": [
       "<Figure size 432x288 with 1 Axes>"
      ]
     },
     "metadata": {
      "needs_background": "light"
     },
     "output_type": "display_data"
    }
   ],
   "source": [
    "plt.plot((J_input*beta),m_numeric,marker='o',label=\"Simulation\",linestyle='')\n",
    "plt.plot((J_input*beta), m_exact, color ='#fbbb00', label='Exact solution')\n",
    "\n",
    "plt.xlabel('$\\\\beta J$')\n",
    "plt.ylabel('$\\\\langle m \\\\rangle$')\n",
    "plt.legend(loc='lower right',prop={'size': 7})\n",
    "plt.grid()\n",
    "plt.savefig('Plots/m_v_j.png',dpi=300, bbox_inches = \"tight\")"
   ]
  },
  {
   "cell_type": "code",
   "execution_count": 284,
   "metadata": {},
   "outputs": [],
   "source": [
    "acceptance_rate = []\n",
    "Nmd = np.linspace(10,100,100,dtype=int)\n",
    "for number in Nmd:\n",
    "    acceptance_rate.append((len(list(set(accept_reject(sweeps,initial_p,initial_phi,beta,0.5,h_fixed,site_N,number))))/number)*100)"
   ]
  },
  {
   "cell_type": "code",
   "execution_count": 285,
   "metadata": {},
   "outputs": [
    {
     "data": {
      "image/png": "[encoded data removed]",
      "text/plain": [
       "<Figure size 432x288 with 1 Axes>"
      ]
     },
     "metadata": {
      "needs_background": "light"
     },
     "output_type": "display_data"
    }
   ],
   "source": [
    "plt.plot(Nmd, acceptance_rate, color ='#fbbb00')\n",
    "\n",
    "plt.xlabel('$N_{md}$')\n",
    "plt.ylabel('Acceptance rate')\n",
    "plt.savefig('Plots/acc.png',dpi=300, bbox_inches = \"tight\")"
   ]
  },
  {
   "cell_type": "code",
   "execution_count": 286,
   "metadata": {},
   "outputs": [
    {
     "data": {
      "text/plain": [
       "21"
      ]
     },
     "metadata": {},
     "output_type": "display_data"
    }
   ],
   "source": [
    "display(Nmd[np.argmax(acceptance_rate)])"
   ]
  }
 ],
 "metadata": {
  "kernelspec": {
   "display_name": "Python 3",
   "language": "python",
   "name": "python3"
  },
  "language_info": {
   "codemirror_mode": {
    "name": "ipython",
    "version": 3
   },
   "file_extension": ".py",
   "mimetype": "text/x-python",
   "name": "python",
   "nbconvert_exporter": "python",
   "pygments_lexer": "ipython3",
   "version": "3.9.13"
  },
  "orig_nbformat": 4,
  "vscode": {
   "interpreter": {
    "hash": "4c953be089fe40a3161a6274bc29065db7f3727d31b32ae4ba9c807e41d13d19"
   }
  }
 },
 "nbformat": 4,
 "nbformat_minor": 2
}
