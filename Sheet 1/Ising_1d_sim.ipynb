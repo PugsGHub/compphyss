{
 "cells": [
  {
   "cell_type": "markdown",
   "metadata": {},
   "source": [
    "# Physics 760: Computational Physics\n",
    "## WS 2022/23\n",
    "### Week 1\n",
    "#### Pugazharasu Anancia Devaneyan, Rishi Kumar Senthil Kumar"
   ]
  },
  {
   "cell_type": "code",
   "execution_count": 76,
   "metadata": {},
   "outputs": [
    {
     "name": "stdout",
     "output_type": "stream",
     "text": [
      "Populating the interactive namespace from numpy and matplotlib\n"
     ]
    }
   ],
   "source": [
    "#setup the notebook\n",
    "%pylab inline\n",
    "import numpy as np\n",
    "import matplotlib.pyplot as plt\n",
    "import math as mth"
   ]
  },
  {
   "cell_type": "markdown",
   "metadata": {},
   "source": [
    "# Simulating the Ising model in $d=1$ using the Metropolis-Hasting algorithm"
   ]
  },
  {
   "cell_type": "markdown",
   "metadata": {},
   "source": [
    "First we define what energy difference i.e. $\\Delta S$ that was defined in the lecture to be numerically."
   ]
  },
  {
   "cell_type": "code",
   "execution_count": 77,
   "metadata": {},
   "outputs": [],
   "source": [
    "def diff_E(J, h, spin, spin_pp, spin_nn):\n",
    "    delta_E = 2*h*spin + 2*J*spin*(spin_pp+spin_nn)\n",
    "    return delta_E"
   ]
  },
  {
   "cell_type": "markdown",
   "metadata": {},
   "source": [
    "Now we implement Metropolis-Hastings algorithm as detailled in the lecture."
   ]
  },
  {
   "cell_type": "code",
   "execution_count": 78,
   "metadata": {},
   "outputs": [],
   "source": [
    "def accept_reject(sweeps, N, beta, J, h, freq=10):\n",
    "    \n",
    "    \n",
    "    spin_list = 2*np.random.randint(2, size=N) - 1\n",
    "    final_config = []\n",
    "    for i in range(sweeps):\n",
    "        spin_flip = np.random.randint(N)\n",
    "        \n",
    "        spin = spin_list[spin_flip]\n",
    "        \n",
    "        spin_nn = spin_list[(spin_flip+1)%N]\n",
    "        spin_pp = spin_list[(spin_flip-1)%N]\n",
    "\n",
    "        change_E = diff_E(J,h,spin,spin_pp,spin_nn)\n",
    "        \n",
    "        rand = np.random.random()\n",
    "        # fill in the metropolis critereon, using dE\n",
    "        if rand<min(1,np.exp(-beta*(change_E))) :\n",
    "            #flip the spin\n",
    "            spin_list[spin_flip]*=-1\n",
    "        else:\n",
    "            pass\n",
    "        \n",
    "        m = spin_list.mean()\n",
    "        \n",
    "        if i%freq == 0:\n",
    "            final_config.append(m)\n",
    "    \n",
    "    return final_config"
   ]
  },
  {
   "cell_type": "markdown",
   "metadata": {},
   "source": [
    "Now we shall calculate the exact solutions to compare the simulation with, the calculations for this are detailed in the neighbouring python notebook."
   ]
  },
  {
   "cell_type": "code",
   "execution_count": 79,
   "metadata": {},
   "outputs": [],
   "source": [
    "def exact_magnetization(J_coup,h_coup,Temp,N_sites):\n",
    "    mag = 0 \n",
    "    sine_term = mth.sin(h_coup/Temp)\n",
    "    cosine_term = mth.cos(h_coup/Temp)\n",
    "    exp_term = mth.exp(J_coup/Temp)\n",
    "    numerator_first = (N_sites*(((cosine_term - mth.sqrt((sine_term**2)+(exp_term**(-4))))*exp_term)**N_sites)*((sine_term/Temp)-((sine_term*cosine_term)/(Temp*mth.sqrt((sine_term**2)+(exp_term**(-4)))))))/(cosine_term - mth.sqrt((sine_term**2)+(exp_term**(-4))))\n",
    "    numerator_second = (N_sites*(((cosine_term + mth.sqrt((sine_term**2)+(exp_term**(-4))))*exp_term)**N_sites)*((sine_term/Temp)+((sine_term*cosine_term)/(Temp*mth.sqrt((sine_term**2)+(exp_term**(-4)))))))/(cosine_term + mth.sqrt((sine_term**2)+(exp_term**(-4))))\n",
    "    denom_first = (((-mth.sqrt((sine_term**2)+(exp_term)**(-4))+cosine_term)*exp_term)**N_sites)\n",
    "    denom_second = (((mth.sqrt((sine_term**2)+(exp_term)**(-4))+cosine_term)*exp_term)**N_sites)\n",
    "    mag = (numerator_first + numerator_second)/(denom_first + denom_second)\n",
    "    return mag"
   ]
  },
  {
   "cell_type": "markdown",
   "metadata": {},
   "source": [
    "We can calculate the magnetization at the thermodynamic limit by taking the limit $\\lim_{N \\rightarrow \\infty}$ for the previous expression."
   ]
  },
  {
   "cell_type": "code",
   "execution_count": 80,
   "metadata": {},
   "outputs": [],
   "source": [
    "def thermo_magnetization(J_coup,h_coup,Temp):\n",
    "    sine_term = mth.sin(h_coup/Temp)\n",
    "    cosine_term = mth.cos(h_coup/Temp)\n",
    "    exp_term = mth.exp(-4*(J_coup/Temp))\n",
    "    mag = (sine_term + ((sine_term * cosine_term)/(mth.sqrt((sine_term**2)+exp_term))))/(cosine_term + mth.sqrt((sine_term**2)+exp_term))\n",
    "    return mag"
   ]
  },
  {
   "cell_type": "code",
   "execution_count": 81,
   "metadata": {},
   "outputs": [],
   "source": [
    "h_input = np.linspace(-1,1,100)\n",
    "h_fixed = 0.5\n",
    "N_fixed = 20\n",
    "N_input = [2,3,4,4,6,7,8,9,10,11,12,13,14,15,16,17,18,19,20]\n",
    "Temp_set = 0.75\n",
    "J_fixed = 1\n",
    "sweeps = N_fixed*100\n",
    "beta = 1/Temp_set"
   ]
  },
  {
   "cell_type": "code",
   "execution_count": 82,
   "metadata": {},
   "outputs": [],
   "source": [
    "m_thermo_1 = []\n",
    "m_exact_1 = []\n",
    "for i in h_input:\n",
    "    m_thermo_1.append(thermo_magnetization(J_fixed,float(i),Temp_set))\n",
    "    m_exact_1.append(exact_magnetization(J_fixed,i,Temp_set,N_fixed)/100)"
   ]
  },
  {
   "cell_type": "code",
   "execution_count": 83,
   "metadata": {},
   "outputs": [
    {
     "data": {
      "image/png": "[encoded data removed]",
      "text/plain": [
       "<Figure size 432x288 with 1 Axes>"
      ]
     },
     "metadata": {
      "needs_background": "light"
     },
     "output_type": "display_data"
    }
   ],
   "source": [
    "m_vs_h = []\n",
    "for h in h_input:\n",
    "    m_h = accept_reject(sweeps, N_fixed, beta, J_fixed,h)\n",
    "    mean_m = np.mean(m_h[len(m_h)//2:])\n",
    "    m_vs_h.append(mean_m)\n",
    "\n",
    "\n",
    "plt.plot(h_input,m_vs_h,marker='o',label=\"Simulation\",linestyle='')\n",
    "plt.plot(h_input, m_thermo_1, color ='#fbbb00', label='Solution in the Thermodynamic Limit')\n",
    "plt.plot(h_input, m_exact_1, color = '#949387', label='Exact solution')\n",
    "\n",
    "plt.xlabel('$h$')\n",
    "plt.ylabel('$\\\\langle m \\\\rangle$')\n",
    "plt.legend(loc='lower right',prop={'size': 7})\n",
    "plt.savefig('m_v_h.png')"
   ]
  },
  {
   "cell_type": "code",
   "execution_count": 84,
   "metadata": {},
   "outputs": [
    {
     "data": {
      "image/png": "[encoded data removed]",
      "text/plain": [
       "<Figure size 432x288 with 1 Axes>"
      ]
     },
     "metadata": {
      "needs_background": "light"
     },
     "output_type": "display_data"
    }
   ],
   "source": [
    "m_vs_n = []\n",
    "for test_n in N_input:\n",
    "    m_n = accept_reject(sweeps, N_fixed, beta, J_fixed,h_fixed)\n",
    "    mean_m_2 = np.mean(m_n[len(m_n)//2:])\n",
    "    m_vs_n.append(mean_m_2)\n",
    "\n",
    "plt.plot(N_input,m_vs_n,marker='o', color ='#fbbb00', label=\"Simulation\")\n",
    "plt.xlabel('$N$')\n",
    "plt.ylabel('$\\\\langle m \\\\rangle$')\n",
    "plt.legend(loc='lower left')\n",
    "plt.savefig('m_v_n.png')"
   ]
  },
  {
   "cell_type": "markdown",
   "metadata": {},
   "source": [
    "# Error estimate"
   ]
  },
  {
   "cell_type": "markdown",
   "metadata": {},
   "source": [
    "We shall now estimate the error in our simulation by measuring residual standard deviation of our simulation from what we expect in the thermodynamic limit."
   ]
  },
  {
   "cell_type": "code",
   "execution_count": 85,
   "metadata": {},
   "outputs": [
    {
     "data": {
      "text/plain": [
       "0.0006000102693923783"
      ]
     },
     "metadata": {},
     "output_type": "display_data"
    }
   ],
   "source": [
    "error_sum = 0\n",
    "for value in h_input:\n",
    "    avg = accept_reject(sweeps, N_fixed, beta, J_fixed,value)\n",
    "    mean = np.mean(avg[len(avg)//2:])\n",
    "    error_sum = (thermo_magnetization(J_fixed,value,Temp_set) - mean)**2\n",
    "error = mth.sqrt(error_sum/(N_fixed-2))\n",
    "display(error)"
   ]
  }
 ],
 "metadata": {
  "kernelspec": {
   "display_name": "Python 3",
   "language": "python",
   "name": "python3"
  },
  "language_info": {
   "codemirror_mode": {
    "name": "ipython",
    "version": 3
   },
   "file_extension": ".py",
   "mimetype": "text/x-python",
   "name": "python",
   "nbconvert_exporter": "python",
   "pygments_lexer": "ipython3",
   "version": "3.9.13"
  },
  "orig_nbformat": 4,
  "vscode": {
   "interpreter": {
    "hash": "4c953be089fe40a3161a6274bc29065db7f3727d31b32ae4ba9c807e41d13d19"
   }
  }
 },
 "nbformat": 4,
 "nbformat_minor": 2
}
