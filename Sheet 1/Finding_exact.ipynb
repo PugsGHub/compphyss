{
 "cells": [
  {
   "cell_type": "markdown",
   "metadata": {},
   "source": [
    "# Physics 760: Computational Physics\n",
    "## WS 2022/23\n",
    "### Week 1\n",
    "#### Pugazharasu Anancia Devaneyan, Rishi Kumar Senthil Kumar"
   ]
  },
  {
   "cell_type": "code",
   "execution_count": 1,
   "metadata": {},
   "outputs": [],
   "source": [
    "#Importing libraries\n",
    "from sympy import *"
   ]
  },
  {
   "cell_type": "markdown",
   "metadata": {},
   "source": [
    "# Finding the exact solution"
   ]
  },
  {
   "cell_type": "markdown",
   "metadata": {},
   "source": [
    "We shall use the equations given in the exercise sheet and Sympy to obtain the exact solution for the average magnetization."
   ]
  },
  {
   "cell_type": "code",
   "execution_count": 2,
   "metadata": {},
   "outputs": [],
   "source": [
    "J, h, T, N = symbols('J h T N')\n",
    "\n",
    "init_printing(use_unicode=True)"
   ]
  },
  {
   "cell_type": "code",
   "execution_count": 3,
   "metadata": {},
   "outputs": [],
   "source": [
    "lambda_plus = exp(J/T)*(cosh(h/T)+sqrt((sinh(h/T)**2)+exp(-4*(J/T))))\n",
    "lambda_minus = exp(J/T)*(cosh(h/T)-sqrt((sinh(h/T)**2)+exp(-4*(J/T))))\n",
    "Z = (lambda_plus**N) + (lambda_minus**N)"
   ]
  },
  {
   "cell_type": "code",
   "execution_count": 4,
   "metadata": {},
   "outputs": [
    {
     "data": {
      "image/png": "[encoded data removed]",
      "text/latex": [
       "$\\displaystyle \\log{\\left(\\left(\\left(- \\sqrt{\\sinh^{2}{\\left(\\frac{h}{T} \\right)} + e^{- \\frac{4 J}{T}}} + \\cosh{\\left(\\frac{h}{T} \\right)}\\right) e^{\\frac{J}{T}}\\right)^{N} + \\left(\\left(\\sqrt{\\sinh^{2}{\\left(\\frac{h}{T} \\right)} + e^{- \\frac{4 J}{T}}} + \\cosh{\\left(\\frac{h}{T} \\right)}\\right) e^{\\frac{J}{T}}\\right)^{N} \\right)}$"
      ],
      "text/plain": [
       "   ⎛                                            N                             \n",
       "   ⎜⎛⎛        ___________________          ⎞   ⎞    ⎛⎛      __________________\n",
       "   ⎜⎜⎜       ╱             -4⋅J            ⎟  J⎟    ⎜⎜     ╱             -4⋅J \n",
       "   ⎜⎜⎜      ╱              ─────           ⎟  ─⎟    ⎜⎜    ╱              ─────\n",
       "   ⎜⎜⎜     ╱       2⎛h⎞      T          ⎛h⎞⎟  T⎟    ⎜⎜   ╱       2⎛h⎞      T  \n",
       "log⎜⎜⎜-   ╱    sinh ⎜─⎟ + ℯ       + cosh⎜─⎟⎟⋅ℯ ⎟  + ⎜⎜  ╱    sinh ⎜─⎟ + ℯ     \n",
       "   ⎝⎝⎝  ╲╱          ⎝T⎠                 ⎝T⎠⎠   ⎠    ⎝⎝╲╱          ⎝T⎠         \n",
       "\n",
       "                N⎞\n",
       "_          ⎞   ⎞ ⎟\n",
       "           ⎟  J⎟ ⎟\n",
       "           ⎟  ─⎟ ⎟\n",
       "        ⎛h⎞⎟  T⎟ ⎟\n",
       "  + cosh⎜─⎟⎟⋅ℯ ⎟ ⎟\n",
       "        ⎝T⎠⎠   ⎠ ⎠"
      ]
     },
     "metadata": {},
     "output_type": "display_data"
    }
   ],
   "source": [
    "A = ln(Z)\n",
    "display(A)"
   ]
  },
  {
   "cell_type": "code",
   "execution_count": null,
   "metadata": {},
   "outputs": [],
   "source": [
    "display()"
   ]
  }
 ],
 "metadata": {
  "kernelspec": {
   "display_name": "Python 3",
   "language": "python",
   "name": "python3"
  },
  "language_info": {
   "codemirror_mode": {
    "name": "ipython",
    "version": 3
   },
   "file_extension": ".py",
   "mimetype": "text/x-python",
   "name": "python",
   "nbconvert_exporter": "python",
   "pygments_lexer": "ipython3",
   "version": "3.9.13"
  },
  "orig_nbformat": 4,
  "vscode": {
   "interpreter": {
    "hash": "4c953be089fe40a3161a6274bc29065db7f3727d31b32ae4ba9c807e41d13d19"
   }
  }
 },
 "nbformat": 4,
 "nbformat_minor": 2
}
