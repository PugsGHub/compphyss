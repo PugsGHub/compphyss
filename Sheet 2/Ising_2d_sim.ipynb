{
 "cells": [
  {
   "cell_type": "markdown",
   "metadata": {},
   "source": [
    "# Physics 760: Computational Physics\n",
    "## WS 2022/23\n",
    "### Week 2\n",
    "#### Pugazharasu Anancia Devaneyan, Rishi Kumar Senthil Kumar"
   ]
  },
  {
   "cell_type": "code",
   "execution_count": 1,
   "metadata": {},
   "outputs": [
    {
     "name": "stdout",
     "output_type": "stream",
     "text": [
      "Populating the interactive namespace from numpy and matplotlib\n"
     ]
    }
   ],
   "source": [
    "#setup the notebook\n",
    "%pylab inline\n",
    "import numpy as np\n",
    "import scipy as sp\n",
    "import matplotlib.pyplot as plt\n",
    "import math as mth\n",
    "from scipy import special"
   ]
  },
  {
   "cell_type": "markdown",
   "metadata": {},
   "source": [
    "# Simulating the Ising model in $d=2$ using the Metropolis-Hasting algorithm"
   ]
  },
  {
   "cell_type": "markdown",
   "metadata": {},
   "source": [
    "First we define what energy difference i.e. $\\Delta S$ that was defined in the lecture to be numerically."
   ]
  },
  {
   "cell_type": "code",
   "execution_count": 2,
   "metadata": {},
   "outputs": [],
   "source": [
    "def deltaE(S0, Sn, J, H):\n",
    "\n",
    "    '''Energy difference for a spin flip'''\n",
    "    \n",
    "    return 2 * S0 * (H + J * Sn)"
   ]
  },
  {
   "cell_type": "markdown",
   "metadata": {},
   "source": [
    "Now we implement Metropolis-Hastings algorithm as detailled in the lecture."
   ]
  },
  {
   "cell_type": "code",
   "execution_count": 9,
   "metadata": {},
   "outputs": [],
   "source": [
    "def accept_reject(sweeps, N, beta, J, h, freq=10):\n",
    "    \n",
    "    \n",
    "    spin_list = 2*np.random.randint(2, size=(N,N)) - 1\n",
    "    final_config = spin_list\n",
    "    for i in range(sweeps):\n",
    "        spin_flip_i = np.random.randint(N)\n",
    "        spin_flip_j = np.random.randint(N)\n",
    "        \n",
    "        Sn = spin_list[(spin_flip_i - 1) % N, spin_flip_j] + spin_list[(spin_flip_i + 1) % N, spin_flip_j] + \\\n",
    "             spin_list[spin_flip_i, (spin_flip_j - 1) % N] + spin_list[spin_flip_i, (spin_flip_j + 1) % N]\n",
    "\n",
    "        change_E = deltaE(spin_list[spin_flip_i,spin_flip_j],Sn,J,h)\n",
    "        \n",
    "        rand = np.random.random()\n",
    "        \n",
    "        if rand<min(1,np.exp(-beta*(change_E))) :\n",
    "            #flip the spin\n",
    "            spin_list[spin_flip_i,spin_flip_j]*=-1\n",
    "        else:\n",
    "            pass\n",
    "    \n",
    "    return spin_list"
   ]
  },
  {
   "cell_type": "markdown",
   "metadata": {},
   "source": [
    "## Magnetization"
   ]
  },
  {
   "cell_type": "code",
   "execution_count": 10,
   "metadata": {},
   "outputs": [],
   "source": [
    "def exact_magnetization(J_coup,h_coup,Temp,N_sites):\n",
    "    beta = 1/Temp\n",
    "    sin_term = np.sinh(h_coup*beta)\n",
    "    cosine_term = np.cosh(h_coup*beta)\n",
    "    lambda_plus = (np.exp(J_coup*beta))*(cosine_term + np.sqrt((sin_term**2)+np.exp(-4*J_coup*Temp)))\n",
    "    lambda_minus = (np.exp(J_coup*beta))*(cosine_term - np.sqrt((sin_term**2)+np.exp(-4*J_coup*Temp)))\n",
    "    ratio = (lambda_minus/lambda_plus)**N_sites\n",
    "    mag = (sin_term/(np.sqrt((sin_term**2)+np.exp(-4*J_coup*Temp))))*((1-ratio)/(1+ratio))\n",
    "    return mag"
   ]
  },
  {
   "cell_type": "markdown",
   "metadata": {},
   "source": [
    "We can calculate the magnetization at the thermodynamic limit by taking the limit $\\lim_{N \\rightarrow \\infty}$ for the previous expression."
   ]
  },
  {
   "cell_type": "code",
   "execution_count": 11,
   "metadata": {},
   "outputs": [],
   "source": [
    "def thermo_magnetization(J_coup,h_coup,Temp):\n",
    "    sine_term = mth.sin(h_coup/Temp)\n",
    "    cosine_term = mth.cos(h_coup/Temp)\n",
    "    exp_term = mth.exp(-4*(J_coup/Temp))\n",
    "    mag = (sine_term + ((sine_term * cosine_term)/(mth.sqrt((sine_term**2)+exp_term))))/(cosine_term + mth.sqrt((sine_term**2)+exp_term))\n",
    "    return mag"
   ]
  },
  {
   "cell_type": "code",
   "execution_count": 55,
   "metadata": {},
   "outputs": [],
   "source": [
    "def numerical_mag(lattice, N):\n",
    "    mag = 0\n",
    "    for i in range(N):\n",
    "        for j in range(N):\n",
    "            mag += lattice[i,j]\n",
    "    mag = mag/(N)\n",
    "    return mag"
   ]
  },
  {
   "cell_type": "code",
   "execution_count": 61,
   "metadata": {},
   "outputs": [],
   "source": [
    "h_input = np.linspace(-1,1,100)\n",
    "h_fixed = 0.5\n",
    "N_fixed = 20\n",
    "N_input = [2,3,4,4,6,7,8,9,10,11,12,13,14,15,16,17,18,19,20]\n",
    "Temp_set = 0.75\n",
    "J_input_1 = np.linspace(0.25,2,100)\n",
    "J_input_2 = np.linspace(0.25,1,100)\n",
    "J_fixed = 0.5\n",
    "sweeps = N_fixed*100\n",
    "beta = 1/Temp_set"
   ]
  },
  {
   "cell_type": "code",
   "execution_count": 14,
   "metadata": {},
   "outputs": [],
   "source": [
    "m_thermo_1 = []\n",
    "m_exact_1 = []\n",
    "for i in h_input:\n",
    "    m_thermo_1.append(thermo_magnetization(J_fixed,float(i),Temp_set))\n",
    "    m_exact_1.append(exact_magnetization(J_fixed,i,Temp_set,N_fixed))"
   ]
  },
  {
   "cell_type": "code",
   "execution_count": 23,
   "metadata": {},
   "outputs": [
    {
     "data": {
      "image/png": "[encoded data removed]",
      "text/plain": [
       "<Figure size 432x288 with 1 Axes>"
      ]
     },
     "metadata": {
      "needs_background": "light"
     },
     "output_type": "display_data"
    }
   ],
   "source": [
    "m_vs_h = []\n",
    "for h in h_input:\n",
    "   m_h = accept_reject(sweeps, N_fixed, beta, J_fixed,h)\n",
    "   mean_m = np.mean(m_h[len(m_h)//2:])\n",
    "   m_vs_h.append(mean_m)\n",
    "\n",
    "\n",
    "plt.plot(h_input,m_vs_h,marker='o',label=\"Simulation\",linestyle='')\n",
    "plt.plot(h_input, m_thermo_1, color ='#fbbb00', label='Solution in the Thermodynamic Limit')\n",
    "plt.plot(h_input, m_exact_1, color = '#949387', label='Exact solution')\n",
    "\n",
    "plt.xlabel('$h$')\n",
    "plt.ylabel('$\\\\langle m \\\\rangle$')\n",
    "plt.legend(loc='lower right',prop={'size': 7})\n",
    "plt.savefig('m_v_h.png')"
   ]
  },
  {
   "cell_type": "markdown",
   "metadata": {},
   "source": [
    "### Absolute Magnetization"
   ]
  },
  {
   "cell_type": "code",
   "execution_count": 39,
   "metadata": {},
   "outputs": [],
   "source": [
    "def numerical_abs_mag(lattice, J,N):\n",
    "    mag_sum = 0\n",
    "    if J > 0.440686793509772:\n",
    "        for i in range(N):\n",
    "            for j in range(N):\n",
    "                mag_sum += np.absolute(lattice[i,j])\n",
    "        mag_sum = mag_sum/(N*N)\n",
    "        return mag_sum\n",
    "    else:\n",
    "        return 0"
   ]
  },
  {
   "cell_type": "code",
   "execution_count": 17,
   "metadata": {},
   "outputs": [],
   "source": [
    "def mag_absolute_exact(J):\n",
    "    if J > 0.440686793509772:\n",
    "        absolute_exact_mag = (1- (1/(np.sinh(2*J)**4)))**(1/8)\n",
    "        return absolute_exact_mag\n",
    "    else:\n",
    "        return 0"
   ]
  },
  {
   "cell_type": "code",
   "execution_count": 28,
   "metadata": {},
   "outputs": [],
   "source": [
    "m_absolute_1 = []\n",
    "for j in J_input:\n",
    "    m_absolute_1.append(mag_absolute_exact(j))\n",
    "    \n",
    "m_abs_vs_h = []\n",
    "for j in J_input:\n",
    "   m_a_h = numerical_abs_mag(accept_reject(sweeps, N_fixed, beta, j,0),j,N_fixed)\n",
    "   m_abs_vs_h.append(m_a_h)"
   ]
  },
  {
   "cell_type": "code",
   "execution_count": 50,
   "metadata": {},
   "outputs": [
    {
     "data": {
      "image/png": "[encoded data removed]",
      "text/plain": [
       "<Figure size 432x288 with 1 Axes>"
      ]
     },
     "metadata": {
      "needs_background": "light"
     },
     "output_type": "display_data"
    }
   ],
   "source": [
    "plt.plot(np.reciprocal(J_input),m_abs_vs_h,'o-',label='$\\\\Lambda = 20$')\n",
    "plt.plot(np.reciprocal(J_input), m_absolute_1, color ='#fbbb00', label='Exact absolute magnetization')\n",
    "\n",
    "plt.xlabel('$J^{-1}$')\n",
    "plt.ylabel('$\\\\langle | m |\\\\rangle$')\n",
    "plt.legend(loc='lower right',prop={'size': 7})\n",
    "plt.savefig('abs_m_v_J.png')"
   ]
  },
  {
   "cell_type": "code",
   "execution_count": 58,
   "metadata": {},
   "outputs": [],
   "source": [
    "m_absolute_2 = []\n",
    "for j in J_input:\n",
    "   m_a_h_2 = accept_reject(sweeps, N_fixed, beta, j,0)\n",
    "   mean_m_2 = np.mean(m_h[len(m_h)//2:])\n",
    "   m_absolute_2.append(mean_m_2)\n",
    "   \n",
    "m_thermo_2 = []\n",
    "m_exact_2 = []\n",
    "for j in J_input:\n",
    "    m_thermo_1.append(thermo_magnetization(j,float(i),Temp_set))\n",
    "    m_exact_1.append(exact_magnetization(j,i,Temp_set,N_fixed))"
   ]
  },
  {
   "cell_type": "code",
   "execution_count": 59,
   "metadata": {},
   "outputs": [
    {
     "data": {
      "image/png": "[encoded data removed]",
      "text/plain": [
       "<Figure size 432x288 with 1 Axes>"
      ]
     },
     "metadata": {
      "needs_background": "light"
     },
     "output_type": "display_data"
    }
   ],
   "source": [
    "plt.plot(np.reciprocal(J_input),m_absolute_2,'o-',label='$\\\\Lambda = 20$')\n",
    "plt.plot(np.reciprocal(J_input), m_absolute_1, color ='#fbbb00', label='Exact absolute magnetization')\n",
    "\n",
    "plt.xlabel('$J^{-1}$')\n",
    "plt.ylabel('$\\\\langle m \\\\rangle$')\n",
    "plt.legend(loc='lower right',prop={'size': 7})\n",
    "plt.savefig('m_v_h.png')"
   ]
  },
  {
   "cell_type": "markdown",
   "metadata": {},
   "source": [
    "## Energy"
   ]
  },
  {
   "cell_type": "code",
   "execution_count": 94,
   "metadata": {},
   "outputs": [],
   "source": [
    "def energy_exact(J):\n",
    "    exact_energy = (-J*(1/np.tanh(2*J)))*(1 + (2/np.pi)*((2*(np.tanh(2*J)**2)-1)*(sp.special.ellipkm1(4*((1/np.cosh(2*J))**2)*(np.tanh(2*J)**2)))))\n",
    "    return exact_energy"
   ]
  },
  {
   "cell_type": "code",
   "execution_count": 124,
   "metadata": {},
   "outputs": [],
   "source": [
    "def energy_numeric(config,j,N):\n",
    "    energy = 0 \n",
    "    \n",
    "    for i in range(N):\n",
    "        for j in range(N):\n",
    "            S = config[i,j]\n",
    "            nb = config[(i+1)%N, j] + config[i,(j+1)%N] + config[(i-1)%N, j] + config[i,(j-1)%N]\n",
    "            energy += -1*nb*S\n",
    "    return energy/(N**2)"
   ]
  },
  {
   "cell_type": "code",
   "execution_count": 125,
   "metadata": {},
   "outputs": [],
   "source": [
    "e_num = []\n",
    "for j in J_input_2:\n",
    "   numeric_e = energy_numeric(accept_reject(sweeps, N_fixed, beta, j,0),j,N_fixed)\n",
    "   e_num.append(numeric_e)\n",
    "   \n",
    "e_exact = []\n",
    "for j in J_input_2:\n",
    "    e_exact.append(energy_exact(j))"
   ]
  },
  {
   "cell_type": "code",
   "execution_count": 126,
   "metadata": {},
   "outputs": [
    {
     "data": {
      "image/png": "[encoded data removed]",
      "text/plain": [
       "<Figure size 432x288 with 1 Axes>"
      ]
     },
     "metadata": {
      "needs_background": "light"
     },
     "output_type": "display_data"
    }
   ],
   "source": [
    "plt.plot(J_input_2,e_num,'o-',label='$\\\\Lambda = 20$')\n",
    "plt.plot(J_input_2, e_exact, color ='#fbbb00', label='Thermodynamic limit')\n",
    "\n",
    "plt.xlabel('$J$')\n",
    "plt.ylabel('$\\\\langle \\\\epsilon \\\\rangle$')\n",
    "plt.legend(loc='upper right',prop={'size': 7})\n",
    "plt.savefig('e_v_j.png')"
   ]
  },
  {
   "cell_type": "markdown",
   "metadata": {},
   "source": [
    "## Specific Heat"
   ]
  },
  {
   "cell_type": "code",
   "execution_count": null,
   "metadata": {},
   "outputs": [],
   "source": [
    "def energy_numeric_square(config,N):\n",
    "    energy = 0 \n",
    "    \n",
    "    for i in range(N):\n",
    "        for j in range(N):\n",
    "            S = config[i,j]\n",
    "            nb = config[(i+1)%N, j] + config[i,(j+1)%N] + config[(i-1)%N, j] + config[i,(j-1)%N]\n",
    "            energy += -nb*S\n",
    "    return energy/2.  # to compensate for over-counting"
   ]
  },
  {
   "cell_type": "code",
   "execution_count": 3,
   "metadata": {},
   "outputs": [],
   "source": [
    "def heat_exact(J):\n",
    "    k = (2*np.sinh(2*J))/(np.cosh(2*J)**2)\n",
    "    first_term = sp.special.ellipkm1(k**2) - sp.special.ellipe(k**2) - (1- (np.tanh(2*J)**2))\n",
    "    second_term = (np.pi/2) + ((2*(np.tanh(2*J)**2))- 1)*(sp.special.ellipkm1(k**2))\n",
    "    exact_heat = ((4*(J**2))/(np.pi*(np.tanh(2*J)**2))) * first_term * second_term\n",
    "    return exact_heat/(J**2)"
   ]
  },
  {
   "cell_type": "code",
   "execution_count": null,
   "metadata": {},
   "outputs": [],
   "source": [
    "def heat_numeric(config,J,N):\n",
    "    heat = (energy_numeric_square(config,N) - )/(J**2)"
   ]
  },
  {
   "cell_type": "code",
   "execution_count": null,
   "metadata": {},
   "outputs": [],
   "source": [
    "m_thermo_1 = []\n",
    "m_exact_1 = []\n",
    "for i in h_input:\n",
    "    m_thermo_1.append(thermo_magnetization(J_fixed,float(i),Temp_set))\n",
    "    m_exact_1.append(exact_magnetization(J_fixed,i,Temp_set,N_fixed)/100)"
   ]
  },
  {
   "cell_type": "code",
   "execution_count": null,
   "metadata": {},
   "outputs": [],
   "source": [
    "def heat(N, J):\n",
    "    heat = N * (energy(J**2)-(energy(J)**2))\n",
    "    return heat"
   ]
  },
  {
   "cell_type": "code",
   "execution_count": 8,
   "metadata": {},
   "outputs": [
    {
     "data": {
      "image/png": "[encoded data removed]",
      "text/plain": [
       "<Figure size 432x288 with 1 Axes>"
      ]
     },
     "metadata": {
      "needs_background": "light"
     },
     "output_type": "display_data"
    }
   ],
   "source": [
    "c_vs_J_exact = []\n",
    "for j in J_input:\n",
    "    #m_h = accept_reject(sweeps, N_fixed, beta, J_fixed,h)\n",
    "    c_vs_J_exact.append(heat_exact(j))\n",
    "\n",
    "\n",
    "#plt.plot(h_input,m_vs_h,marker='o',label=\"Simulation\",linestyle='')\n",
    "plt.plot(np.reciprocal(J_input), c_vs_J_exact, marker='o',label=\"Exact Heat Capacity\",linestyle='')\n",
    "#plt.plot(c_vs_J, J_input, color ='#fbbb00', label='Solution in the Thermodynamic Limit')\n",
    "#plt.plot(h_input, m_exact_1, color = '#949387', label='Exact solution')\n",
    "\n",
    "plt.xlabel('$J^{-1}$')\n",
    "plt.ylabel('$C \\ / \\ J^{2}$')\n",
    "plt.legend(loc='upper right',prop={'size': 7})\n",
    "plt.savefig('m_v_h.png')"
   ]
  },
  {
   "cell_type": "markdown",
   "metadata": {},
   "source": [
    "# Error estimate"
   ]
  },
  {
   "cell_type": "markdown",
   "metadata": {},
   "source": [
    "We shall now estimate the error in our simulation by measuring residual standard deviation of our simulation from what we expect in the thermodynamic limit."
   ]
  },
  {
   "cell_type": "code",
   "execution_count": 85,
   "metadata": {},
   "outputs": [
    {
     "data": {
      "text/plain": [
       "0.0006000102693923783"
      ]
     },
     "metadata": {},
     "output_type": "display_data"
    }
   ],
   "source": [
    "error_sum = 0\n",
    "for value in h_input:\n",
    "    avg = accept_reject(sweeps, N_fixed, beta, J_fixed,value)\n",
    "    mean = np.mean(avg[len(avg)//2:])\n",
    "    error_sum = (thermo_magnetization(J_fixed,value,Temp_set) - mean)**2\n",
    "error = mth.sqrt(error_sum/(N_fixed-2))\n",
    "display(error)"
   ]
  }
 ],
 "metadata": {
  "kernelspec": {
   "display_name": "Python 3",
   "language": "python",
   "name": "python3"
  },
  "language_info": {
   "codemirror_mode": {
    "name": "ipython",
    "version": 3
   },
   "file_extension": ".py",
   "mimetype": "text/x-python",
   "name": "python",
   "nbconvert_exporter": "python",
   "pygments_lexer": "ipython3",
   "version": "3.9.13"
  },
  "orig_nbformat": 4,
  "vscode": {
   "interpreter": {
    "hash": "4c953be089fe40a3161a6274bc29065db7f3727d31b32ae4ba9c807e41d13d19"
   }
  }
 },
 "nbformat": 4,
 "nbformat_minor": 2
}
