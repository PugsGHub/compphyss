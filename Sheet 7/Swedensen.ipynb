{
 "cells": [
  {
   "attachments": {},
   "cell_type": "markdown",
   "metadata": {},
   "source": [
    "# Physics 760: Computational Physics\n",
    "## WS 2022/23\n",
    "### Week 7\n",
    "#### Pugazharasu Anancia Devaneyan, Rishi Kumar Senthil Kumar"
   ]
  },
  {
   "cell_type": "code",
   "execution_count": 56,
   "metadata": {},
   "outputs": [
    {
     "name": "stdout",
     "output_type": "stream",
     "text": [
      "%pylab is deprecated, use %matplotlib inline and import the required libraries.\n",
      "Populating the interactive namespace from numpy and matplotlib\n"
     ]
    }
   ],
   "source": [
    "#setup the notebook\n",
    "%pylab inline\n",
    "import numpy as np\n",
    "import scipy as sp\n",
    "import matplotlib.pyplot as plt\n",
    "import math as mth\n",
    "from scipy import special\n"
   ]
  },
  {
   "cell_type": "markdown",
   "metadata": {},
   "source": [
    "# Simulating the Ising model in $d=2$ using the Metropolis-Hasting algorithm"
   ]
  },
  {
   "cell_type": "code",
   "execution_count": 57,
   "metadata": {},
   "outputs": [],
   "source": [
    "def deltaE(S0, Sn, J, H):\n",
    "    return 2 * S0 * (H + J * Sn)"
   ]
  },
  {
   "cell_type": "code",
   "execution_count": 58,
   "metadata": {},
   "outputs": [],
   "source": [
    "def metropolis(sweeps, N, J, h, freq=10):\n",
    "    spin_list = 2*np.random.randint(2, size=(N,N)) - 1\n",
    "    final_config = spin_list\n",
    "    for i in range(sweeps):\n",
    "        spin_flip_i = np.random.randint(N)\n",
    "        spin_flip_j = np.random.randint(N)\n",
    "        \n",
    "        Sn = spin_list[(spin_flip_i - 1) % N, spin_flip_j] + spin_list[(spin_flip_i + 1) % N, spin_flip_j] + \\\n",
    "             spin_list[spin_flip_i, (spin_flip_j - 1) % N] + spin_list[spin_flip_i, (spin_flip_j + 1) % N]\n",
    "\n",
    "        change_E = deltaE(spin_list[spin_flip_i,spin_flip_j],Sn,J,h)\n",
    "        \n",
    "        rand = np.random.random()\n",
    "        \n",
    "        if rand<min(1,np.exp(-1*(change_E))) :\n",
    "            #flip the spin\n",
    "            spin_list[spin_flip_i,spin_flip_j]*=-1\n",
    "        else:\n",
    "            pass\n",
    "    \n",
    "    return spin_list"
   ]
  },
  {
   "attachments": {},
   "cell_type": "markdown",
   "metadata": {},
   "source": [
    "## Swedensen-Wang"
   ]
  },
  {
   "cell_type": "code",
   "execution_count": 59,
   "metadata": {},
   "outputs": [],
   "source": [
    "def back_track(L, x, y, bonds, not_visited, cluster, spin_list, sign):\n",
    "    if not_visited[x, y]:\n",
    "        not_visited[x, y] = False\n",
    "        cluster.append([x, y])\n",
    "        spin_list[x, y] = spin_list[x, y] * sign\n",
    "                \n",
    "        if bonds[0][x][y] == np.inf:\n",
    "            n_x = x\n",
    "            n_y = (y + 1)%L\n",
    "            cluster, spin_list = back_track(L, n_x, n_y, bonds, not_visited, cluster, spin_list, sign)\n",
    "            \n",
    "        if bonds[0][x][(y - 1)%L] == np.inf:\n",
    "            n_x = x\n",
    "            n_y = (y - 1)%L\n",
    "            cluster, spin_list = back_track(L, n_x, n_y, bonds, not_visited, cluster, spin_list, sign)\n",
    "            \n",
    "        if bonds[1][x][y] == np.inf:\n",
    "            n_x = (x + 1)%L\n",
    "            n_y = y\n",
    "            cluster, spin_list = back_track(L, n_x, n_y, bonds, not_visited, cluster, spin_list, sign)\n",
    "            \n",
    "        if bonds[1][(x - 1)%L][y] == np.inf:\n",
    "            n_x = (x - 1)%L\n",
    "            n_y = y\n",
    "            cluster, spin_list = back_track(L, n_x, n_y, bonds, not_visited, cluster, spin_list, sign)\n",
    "            \n",
    "    return cluster, spin_list"
   ]
  },
  {
   "cell_type": "code",
   "execution_count": 60,
   "metadata": {},
   "outputs": [],
   "source": [
    "def perc(J,L,spin_list):\n",
    "    bonds = np.zeros((2, L, L,),dtype=float)\n",
    "    perc_prob = np.minimum(1, np.exp(-2*J))\n",
    "    \n",
    "    delta_spin_hor = np.abs(spin_list+np.roll(spin_list,-1,axis=1))/2 \n",
    "    nz_delta_spin_hor = np.asarray(np.nonzero(delta_spin_hor)) \n",
    "\n",
    "    delta_spin_ver = np.abs(spin_list+np.roll(spin_list,-1,axis=0))/2 \n",
    "    nz_delta_spin_ver = np.asarray(np.nonzero(delta_spin_ver)) \n",
    "\n",
    "    for i in range(np.shape(nz_delta_spin_hor)[1]):\n",
    "        if np.random.binomial(1, perc_prob) == 1:\n",
    "            bonds[0, nz_delta_spin_hor[0,i], nz_delta_spin_hor[1,i]] = 0\n",
    "        else:\n",
    "            bonds[0, nz_delta_spin_hor[0,i], nz_delta_spin_hor[1,i]] = np.inf\n",
    "\n",
    "    for j in range(np.shape(nz_delta_spin_ver)[1]):\n",
    "        if np.random.binomial(1, perc_prob) == 1:\n",
    "            bonds[1, nz_delta_spin_ver[0,j], nz_delta_spin_ver[1,j]] = 0\n",
    "        else:\n",
    "            bonds[1, nz_delta_spin_ver[0,j], nz_delta_spin_ver[1,j]] = np.inf\n",
    "    \n",
    "    return bonds"
   ]
  },
  {
   "cell_type": "code",
   "execution_count": 61,
   "metadata": {},
   "outputs": [],
   "source": [
    "def SW_algorithm(J,L,spin_list):\n",
    "    islands = []\n",
    "    clusters = []\n",
    "    not_visited = np.ones((L, L), dtype= bool)\n",
    "    \n",
    "    grid_spins = spin_list\n",
    "    \n",
    "    bonds = perc(J,L, grid_spins)\n",
    "    \n",
    "    for i in range(L):\n",
    "        cluster = []\n",
    "        flip_cluster = 2*np.random.randint(2) - 1 \n",
    "        spin_site_x = spin_list[0][i]\n",
    "        spin_site_y = spin_list[1][i]\n",
    "        cluster, grid_spins = back_track(L,spin_site_x, spin_site_y, bonds, not_visited, cluster, grid_spins, flip_cluster)\n",
    "\n",
    "        if cluster != []:\n",
    "            islands.append(cluster)\n",
    "            clusters.append(flip_cluster)                   \n",
    "            \n",
    "    return islands, grid_spins, clusters"
   ]
  },
  {
   "attachments": {},
   "cell_type": "markdown",
   "metadata": {},
   "source": [
    "## Observables"
   ]
  },
  {
   "cell_type": "code",
   "execution_count": 71,
   "metadata": {},
   "outputs": [],
   "source": [
    "def numerical_mag(lattice,N):\n",
    "    mag = np.abs(np.sum(lattice)/(N*N))\n",
    "    return mag"
   ]
  },
  {
   "cell_type": "code",
   "execution_count": 63,
   "metadata": {},
   "outputs": [],
   "source": [
    "def energy_exact(J):\n",
    "    exact_energy = (-J*(1/np.tanh(2*J)))*(1 + (2/np.pi)*((2*(np.tanh(2*J)**2)-1)*(sp.special.ellipkm1(4*((1/np.cosh(2*J))**2)*(np.tanh(2*J)**2)))))\n",
    "    return exact_energy"
   ]
  },
  {
   "cell_type": "code",
   "execution_count": 64,
   "metadata": {},
   "outputs": [],
   "source": [
    "def exact_abs_mag(lattice,J,N):\n",
    "    absolute_exact_mag = (1- (1/(np.sinh(2*J)**4)))**(1/8)\n",
    "    return absolute_exact_mag"
   ]
  },
  {
   "attachments": {},
   "cell_type": "markdown",
   "metadata": {},
   "source": [
    "## Plotting"
   ]
  },
  {
   "cell_type": "code",
   "execution_count": 76,
   "metadata": {},
   "outputs": [
    {
     "name": "stderr",
     "output_type": "stream",
     "text": [
      "C:\\Users\\pugaz\\AppData\\Local\\Temp\\ipykernel_11500\\95036120.py:2: RuntimeWarning: divide by zero encountered in double_scalars\n",
      "  absolute_exact_mag = (1- (1/(np.sinh(2*J)**4)))**(1/8)\n",
      "C:\\Users\\pugaz\\AppData\\Local\\Temp\\ipykernel_11500\\95036120.py:2: RuntimeWarning: invalid value encountered in double_scalars\n",
      "  absolute_exact_mag = (1- (1/(np.sinh(2*J)**4)))**(1/8)\n"
     ]
    },
    {
     "data": {
      "image/png": "[encoded data removed]",
      "text/plain": [
       "<Figure size 640x480 with 1 Axes>"
      ]
     },
     "metadata": {},
     "output_type": "display_data"
    }
   ],
   "source": [
    "J_list = [0.0,0.25,0.35,0.45,0.55,0.65,0.75,0.85,1.05,1.30,1.55,1.8,2.0]\n",
    "\n",
    "output = []\n",
    "metro_output = []\n",
    "exact_output = []\n",
    "for j in J_list:\n",
    "    spin_list = 2*np.random.randint(2, size=(20,20)) - 1\n",
    "    clusters = SW_algorithm(j,20,spin_list)\n",
    "    spins = metropolis(1000, 20, j, 0, freq=10)\n",
    "    exact_output.append(exact_abs_mag(spin_list,j,20))\n",
    "    output.append(numerical_mag(clusters[1],20))\n",
    "    metro_output.append(numerical_mag(spins,20))\n",
    "\n",
    "plt.plot(J_list,output,'o-',label='Swed')\n",
    "plt.plot(J_list, metro_output, color ='#fbbb00', label='Metropolis')\n",
    "plt.plot(J_list, exact_output, color ='#fbb000', label='Exact result')\n",
    "\n",
    "plt.xlabel('$J$')\n",
    "plt.ylabel('$\\\\langle  |m| \\\\rangle$')\n",
    "plt.legend(loc='upper right',prop={'size': 7})\n",
    "plt.savefig('Plots/m_v_j.png')"
   ]
  }
 ],
 "metadata": {
  "kernelspec": {
   "display_name": "Python 3.11.0 64-bit",
   "language": "python",
   "name": "python3"
  },
  "language_info": {
   "codemirror_mode": {
    "name": "ipython",
    "version": 3
   },
   "file_extension": ".py",
   "mimetype": "text/x-python",
   "name": "python",
   "nbconvert_exporter": "python",
   "pygments_lexer": "ipython3",
   "version": "3.11.0"
  },
  "orig_nbformat": 4,
  "vscode": {
   "interpreter": {
    "hash": "ff176de12eabbe123f999cd7d80546434b382330ecb486d71e97ddf814e9849f"
   }
  }
 },
 "nbformat": 4,
 "nbformat_minor": 2
}
